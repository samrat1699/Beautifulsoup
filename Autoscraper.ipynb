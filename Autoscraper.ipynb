{
 "cells": [
  {
   "cell_type": "code",
   "execution_count": 1,
   "id": "699490d6-7303-4c40-bb18-0878c195b025",
   "metadata": {},
   "outputs": [
    {
     "name": "stdout",
     "output_type": "stream",
     "text": [
      "Requirement already satisfied: autoscraper in c:\\users\\asus\\appdata\\local\\programs\\python\\python310\\lib\\site-packages (1.1.14)\n",
      "Requirement already satisfied: requests in c:\\users\\asus\\appdata\\local\\programs\\python\\python310\\lib\\site-packages (from autoscraper) (2.27.1)\n",
      "Requirement already satisfied: bs4 in c:\\users\\asus\\appdata\\local\\programs\\python\\python310\\lib\\site-packages (from autoscraper) (0.0.1)\n",
      "Requirement already satisfied: lxml in c:\\users\\asus\\appdata\\local\\programs\\python\\python310\\lib\\site-packages (from autoscraper) (4.9.0)\n",
      "Requirement already satisfied: beautifulsoup4 in c:\\users\\asus\\appdata\\local\\programs\\python\\python310\\lib\\site-packages (from bs4->autoscraper) (4.10.0)\n",
      "Requirement already satisfied: urllib3<1.27,>=1.21.1 in c:\\users\\asus\\appdata\\local\\programs\\python\\python310\\lib\\site-packages (from requests->autoscraper) (1.26.9)\n",
      "Requirement already satisfied: certifi>=2017.4.17 in c:\\users\\asus\\appdata\\local\\programs\\python\\python310\\lib\\site-packages (from requests->autoscraper) (2021.10.8)\n",
      "Requirement already satisfied: charset-normalizer~=2.0.0 in c:\\users\\asus\\appdata\\local\\programs\\python\\python310\\lib\\site-packages (from requests->autoscraper) (2.0.12)\n",
      "Requirement already satisfied: idna<4,>=2.5 in c:\\users\\asus\\appdata\\local\\programs\\python\\python310\\lib\\site-packages (from requests->autoscraper) (3.3)\n",
      "Requirement already satisfied: soupsieve>1.2 in c:\\users\\asus\\appdata\\local\\programs\\python\\python310\\lib\\site-packages (from beautifulsoup4->bs4->autoscraper) (2.3.1)\n"
     ]
    }
   ],
   "source": [
    "!pip install autoscraper"
   ]
  },
  {
   "cell_type": "code",
   "execution_count": 2,
   "id": "36dc1431-b6df-49a3-b517-9ac386e31016",
   "metadata": {},
   "outputs": [],
   "source": [
    "from autoscraper import AutoScraper\n"
   ]
  },
  {
   "cell_type": "code",
   "execution_count": 3,
   "id": "a424752c-2bdb-4550-81d0-e69b5e589c19",
   "metadata": {},
   "outputs": [],
   "source": [
    "url = 'https://www.rokomari.com/book/category/1983/extra-discount?ref=mm_c0'\n",
    "wanted_list = [\"Title of the article\", \"Author\", \"Publication Date\"]\n"
   ]
  },
  {
   "cell_type": "code",
   "execution_count": 4,
   "id": "bf76d19d-4291-4591-9335-7a93dd658949",
   "metadata": {},
   "outputs": [],
   "source": [
    "scraper = AutoScraper()\n"
   ]
  },
  {
   "cell_type": "code",
   "execution_count": 5,
   "id": "b67d6bbe-db32-4eea-bb82-0c647f7b9f34",
   "metadata": {},
   "outputs": [
    {
     "data": {
      "text/plain": [
       "[]"
      ]
     },
     "execution_count": 5,
     "metadata": {},
     "output_type": "execute_result"
    }
   ],
   "source": [
    "scraper.build(url, wanted_list)\n"
   ]
  },
  {
   "cell_type": "code",
   "execution_count": 7,
   "id": "232094b5-c8a4-445d-afd4-4c2ca96263f6",
   "metadata": {},
   "outputs": [],
   "source": [
    "results = scraper.get_result_similar(url)\n",
    "\n",
    "for result in results:\n",
    "    print(result['Title of the article'])\n",
    "    print(result['Author'])\n",
    "    print(result['Publication Date'])\n",
    "    print()\n"
   ]
  },
  {
   "cell_type": "code",
   "execution_count": 8,
   "id": "3a8bcf55-2162-4433-a100-14408ae7e835",
   "metadata": {},
   "outputs": [],
   "source": [
    "url = 'https://www.rokomari.com/book/category/1983/extra-discount?ref=mm_c0'\n",
    "wanted_list = [\"Product Title\", \"Author\", \"Price\"]\n"
   ]
  },
  {
   "cell_type": "code",
   "execution_count": 9,
   "id": "33f45e32-c75a-4eab-bb87-a2f040fb9137",
   "metadata": {},
   "outputs": [],
   "source": [
    "scraper = AutoScraper()\n"
   ]
  },
  {
   "cell_type": "code",
   "execution_count": 10,
   "id": "9ff87dbf-3341-4450-b5ad-173a1116b004",
   "metadata": {},
   "outputs": [
    {
     "data": {
      "text/plain": [
       "['ফ্রি বইয়ের অফার    Buy 1 Get 1 Offer', 'In Stock', 'Price']"
      ]
     },
     "execution_count": 10,
     "metadata": {},
     "output_type": "execute_result"
    }
   ],
   "source": [
    "scraper.build(url, wanted_list)\n"
   ]
  },
  {
   "cell_type": "code",
   "execution_count": 11,
   "id": "f7d16888-495f-472b-9eff-f95c358601b1",
   "metadata": {},
   "outputs": [],
   "source": [
    "results = scraper.get_result_similar(url)\n"
   ]
  },
  {
   "cell_type": "code",
   "execution_count": 19,
   "id": "62abe610-f900-4491-b0dd-238f863f8906",
   "metadata": {},
   "outputs": [],
   "source": [
    "from autoscraper import AutoScraper\n"
   ]
  },
  {
   "cell_type": "code",
   "execution_count": 20,
   "id": "5baf37d9-d1ff-4a57-9166-d59414b7c2bb",
   "metadata": {},
   "outputs": [],
   "source": [
    "url = 'https://www.amazon.com/dp/B0BXHGSQ16/ref=s9_acsd_ri_bw_c2_x_0_t?pf_rd_m=ATVPDKIKX0DER&pf_rd_s=merchandised-search-10&pf_rd_r=V0JW5N0J8M91R1N50ECY&pf_rd_t=101&pf_rd_p=38a5b9af-1bd6-4f5f-9aa9-232c35114502&pf_rd_i=23901427011'\n",
    "wanted_list = [\"Product Title\", \"Price\"]\n"
   ]
  },
  {
   "cell_type": "code",
   "execution_count": 21,
   "id": "cb0571b1-a31a-4cd0-bf62-1510063e34ef",
   "metadata": {},
   "outputs": [],
   "source": [
    "scraper = AutoScraper()\n"
   ]
  },
  {
   "cell_type": "code",
   "execution_count": 22,
   "id": "c37c2e5e-a437-47bf-8cc4-d84873e69f71",
   "metadata": {},
   "outputs": [
    {
     "data": {
      "text/plain": [
       "['Price']"
      ]
     },
     "execution_count": 22,
     "metadata": {},
     "output_type": "execute_result"
    }
   ],
   "source": [
    "scraper.build(url, wanted_list)\n"
   ]
  },
  {
   "cell_type": "code",
   "execution_count": 23,
   "id": "e8f355f4-021f-485b-be0d-c09a2e471bb6",
   "metadata": {},
   "outputs": [],
   "source": [
    "results = scraper.get_result_similar(url)\n"
   ]
  },
  {
   "cell_type": "code",
   "execution_count": 25,
   "id": "44e8d990-bd0f-475c-818e-181794ee053d",
   "metadata": {},
   "outputs": [],
   "source": [
    "url = 'https://www.amazon.com/dp/B0BXHGSQ16/ref=s9_acsd_ri_bw_c2_x_0_t?pf_rd_m=ATVPDKIKX0DER&pf_rd_s=merchandised-search-10&pf_rd_r=V0JW5N0J8M91R1N50ECY&pf_rd_t=101&pf_rd_p=38a5b9af-1bd6-4f5f-9aa9-232c35114502&pf_rd_i=23901427011'\n",
    "wanted_list = [\"Product Title\", \"Price\"]\n"
   ]
  },
  {
   "cell_type": "code",
   "execution_count": 26,
   "id": "646b1158-85a8-45c3-9439-5cf295de4145",
   "metadata": {},
   "outputs": [],
   "source": [
    "scraper = AutoScraper()\n"
   ]
  },
  {
   "cell_type": "code",
   "execution_count": 27,
   "id": "384a3b67-21b6-48d2-a6b9-0c70cf3a097f",
   "metadata": {},
   "outputs": [
    {
     "data": {
      "text/plain": [
       "['Price']"
      ]
     },
     "execution_count": 27,
     "metadata": {},
     "output_type": "execute_result"
    }
   ],
   "source": [
    "scraper.build(url, wanted_list)\n"
   ]
  },
  {
   "cell_type": "code",
   "execution_count": 28,
   "id": "9c2d6feb-79a7-4f60-873f-f504d284201f",
   "metadata": {},
   "outputs": [],
   "source": [
    "results = scraper.get_result_similar(url)\n"
   ]
  },
  {
   "cell_type": "code",
   "execution_count": 31,
   "id": "52a388e3-804b-429f-a42c-a5b28ae3bec7",
   "metadata": {},
   "outputs": [
    {
     "name": "stdout",
     "output_type": "stream",
     "text": [
      "[]\n"
     ]
    }
   ],
   "source": [
    "from autoscraper import AutoScraper\n",
    "\n",
    "url = 'https://stackoverflow.com/questions/2081586/web-scraping-with-python'\n",
    "\n",
    "# We can add one or multiple candidates here.\n",
    "# You can also put urls here to retrieve urls.\n",
    "wanted_list = [\"How to call an external command?\"]\n",
    "\n",
    "scraper = AutoScraper()\n",
    "result = scraper.build(url, wanted_list)\n",
    "print(result)"
   ]
  },
  {
   "cell_type": "code",
   "execution_count": 33,
   "id": "51e695ec-bbc5-4970-96fe-96d30df780ae",
   "metadata": {},
   "outputs": [
    {
     "name": "stdout",
     "output_type": "stream",
     "text": [
      "[]\n"
     ]
    }
   ],
   "source": [
    "from autoscraper import AutoScraper\n",
    "\n",
    "url = 'https://stackoverflow.com/questions/2081586/web-scraping-with-python'\n",
    "\n",
    "# We can add one or multiple candidates here.\n",
    "# You can also put urls here to retrieve urls.\n",
    "wanted_list = [\"How to call an external command?\"]\n",
    "\n",
    "scraper = AutoScraper()\n",
    "result = scraper.build(url, wanted_list)\n",
    "print(result)"
   ]
  },
  {
   "cell_type": "code",
   "execution_count": 32,
   "id": "552cc9d5-e0fc-4970-87a1-1435747cc8a5",
   "metadata": {},
   "outputs": [
    {
     "name": "stderr",
     "output_type": "stream",
     "text": [
      "  Running command git clone --filter=blob:none --quiet https://github.com/alirezamika/autoscraper.git 'C:\\Users\\ASUS\\AppData\\Local\\Temp\\pip-req-build-vj1n65vh'\n"
     ]
    },
    {
     "name": "stdout",
     "output_type": "stream",
     "text": [
      "Collecting git+https://github.com/alirezamika/autoscraper.git\n",
      "  Cloning https://github.com/alirezamika/autoscraper.git to c:\\users\\asus\\appdata\\local\\temp\\pip-req-build-vj1n65vh\n",
      "  Resolved https://github.com/alirezamika/autoscraper.git to commit 26bc6bf78a14753f5dca6856999d96d5374dc64d\n",
      "  Preparing metadata (setup.py): started\n",
      "  Preparing metadata (setup.py): finished with status 'done'\n",
      "Requirement already satisfied: requests in c:\\users\\asus\\appdata\\local\\programs\\python\\python310\\lib\\site-packages (from autoscraper==1.1.14) (2.27.1)\n",
      "Requirement already satisfied: bs4 in c:\\users\\asus\\appdata\\local\\programs\\python\\python310\\lib\\site-packages (from autoscraper==1.1.14) (0.0.1)\n",
      "Requirement already satisfied: lxml in c:\\users\\asus\\appdata\\local\\programs\\python\\python310\\lib\\site-packages (from autoscraper==1.1.14) (4.9.0)\n",
      "Requirement already satisfied: beautifulsoup4 in c:\\users\\asus\\appdata\\local\\programs\\python\\python310\\lib\\site-packages (from bs4->autoscraper==1.1.14) (4.10.0)\n",
      "Requirement already satisfied: urllib3<1.27,>=1.21.1 in c:\\users\\asus\\appdata\\local\\programs\\python\\python310\\lib\\site-packages (from requests->autoscraper==1.1.14) (1.26.9)\n",
      "Requirement already satisfied: certifi>=2017.4.17 in c:\\users\\asus\\appdata\\local\\programs\\python\\python310\\lib\\site-packages (from requests->autoscraper==1.1.14) (2021.10.8)\n",
      "Requirement already satisfied: charset-normalizer~=2.0.0 in c:\\users\\asus\\appdata\\local\\programs\\python\\python310\\lib\\site-packages (from requests->autoscraper==1.1.14) (2.0.12)\n",
      "Requirement already satisfied: idna<4,>=2.5 in c:\\users\\asus\\appdata\\local\\programs\\python\\python310\\lib\\site-packages (from requests->autoscraper==1.1.14) (3.3)\n",
      "Requirement already satisfied: soupsieve>1.2 in c:\\users\\asus\\appdata\\local\\programs\\python\\python310\\lib\\site-packages (from beautifulsoup4->bs4->autoscraper==1.1.14) (2.3.1)\n"
     ]
    }
   ],
   "source": [
    "!pip install git+https://github.com/alirezamika/autoscraper.git"
   ]
  },
  {
   "cell_type": "code",
   "execution_count": 35,
   "id": "da18a65e-3d09-4fcc-a6a8-b247d37c7e8d",
   "metadata": {},
   "outputs": [
    {
     "name": "stdout",
     "output_type": "stream",
     "text": [
      "['https://books.toscrape.com/catalogue/category/books/travel_2/index.html', 'https://books.toscrape.com/catalogue/category/books/mystery_3/index.html', 'https://books.toscrape.com/catalogue/category/books/historical-fiction_4/index.html', 'https://books.toscrape.com/catalogue/category/books/sequential-art_5/index.html', 'https://books.toscrape.com/catalogue/category/books/classics_6/index.html', 'https://books.toscrape.com/catalogue/category/books/philosophy_7/index.html', 'https://books.toscrape.com/catalogue/category/books/romance_8/index.html', 'https://books.toscrape.com/catalogue/category/books/womens-fiction_9/index.html', 'https://books.toscrape.com/catalogue/category/books/fiction_10/index.html', 'https://books.toscrape.com/catalogue/category/books/childrens_11/index.html', 'https://books.toscrape.com/catalogue/category/books/religion_12/index.html', 'https://books.toscrape.com/catalogue/category/books/nonfiction_13/index.html', 'https://books.toscrape.com/catalogue/category/books/music_14/index.html', 'https://books.toscrape.com/catalogue/category/books/default_15/index.html', 'https://books.toscrape.com/catalogue/category/books/science-fiction_16/index.html', 'https://books.toscrape.com/catalogue/category/books/sports-and-games_17/index.html', 'https://books.toscrape.com/catalogue/category/books/add-a-comment_18/index.html', 'https://books.toscrape.com/catalogue/category/books/fantasy_19/index.html', 'https://books.toscrape.com/catalogue/category/books/new-adult_20/index.html', 'https://books.toscrape.com/catalogue/category/books/young-adult_21/index.html', 'https://books.toscrape.com/catalogue/category/books/science_22/index.html', 'https://books.toscrape.com/catalogue/category/books/poetry_23/index.html', 'https://books.toscrape.com/catalogue/category/books/paranormal_24/index.html', 'https://books.toscrape.com/catalogue/category/books/art_25/index.html', 'https://books.toscrape.com/catalogue/category/books/psychology_26/index.html', 'https://books.toscrape.com/catalogue/category/books/autobiography_27/index.html', 'https://books.toscrape.com/catalogue/category/books/parenting_28/index.html', 'https://books.toscrape.com/catalogue/category/books/adult-fiction_29/index.html', 'https://books.toscrape.com/catalogue/category/books/humor_30/index.html', 'https://books.toscrape.com/catalogue/category/books/horror_31/index.html', 'https://books.toscrape.com/catalogue/category/books/history_32/index.html', 'https://books.toscrape.com/catalogue/category/books/food-and-drink_33/index.html', 'https://books.toscrape.com/catalogue/category/books/christian-fiction_34/index.html', 'https://books.toscrape.com/catalogue/category/books/business_35/index.html', 'https://books.toscrape.com/catalogue/category/books/biography_36/index.html', 'https://books.toscrape.com/catalogue/category/books/thriller_37/index.html', 'https://books.toscrape.com/catalogue/category/books/contemporary_38/index.html', 'https://books.toscrape.com/catalogue/category/books/spirituality_39/index.html', 'https://books.toscrape.com/catalogue/category/books/academic_40/index.html', 'https://books.toscrape.com/catalogue/category/books/self-help_41/index.html', 'https://books.toscrape.com/catalogue/category/books/historical_42/index.html', 'https://books.toscrape.com/catalogue/category/books/christian_43/index.html', 'https://books.toscrape.com/catalogue/category/books/suspense_44/index.html', 'https://books.toscrape.com/catalogue/category/books/short-stories_45/index.html', 'https://books.toscrape.com/catalogue/category/books/novels_46/index.html', 'https://books.toscrape.com/catalogue/category/books/health_47/index.html', 'https://books.toscrape.com/catalogue/category/books/politics_48/index.html', 'https://books.toscrape.com/catalogue/category/books/cultural_49/index.html', 'https://books.toscrape.com/catalogue/category/books/erotica_50/index.html', 'https://books.toscrape.com/catalogue/category/books/crime_51/index.html']\n"
     ]
    }
   ],
   "source": [
    "from autoscraper import AutoScraper\n",
    " \n",
    "url_to_scrape=\"https://books.toscrape.com\"\n",
    "WantedList=[\"https://books.toscrape.com/catalogue/category/books/travel_2/index.html\"]\n",
    " \n",
    "Scraper = AutoScraper()\n",
    "ScrapedData = Scraper.build(url_to_scrape, wanted_list=WantedList)\n",
    "print (ScrapedData)"
   ]
  },
  {
   "cell_type": "code",
   "execution_count": 36,
   "id": "aee72683-7b7b-4d5f-929d-3d9bd365ea67",
   "metadata": {},
   "outputs": [
    {
     "data": {
      "text/plain": [
       "[\"It's Only the Himalayas\",\n",
       " 'a22124811bfa8350',\n",
       " 'Books',\n",
       " '£45.17',\n",
       " '£0.00',\n",
       " 'In stock (19 available)',\n",
       " '0']"
      ]
     },
     "execution_count": 36,
     "metadata": {},
     "output_type": "execute_result"
    }
   ],
   "source": [
    "from autoscraper import AutoScraper\n",
    "UrlToScrap=\"https://books.toscrape.com/catalogue/its-only-the-himalayas_981/index.html\"\n",
    "WantedList=[\"It's Only the Himalayas\", \"£45.17\"]\n",
    " \n",
    "InfoScraper = AutoScraper()\n",
    "InfoScraper.build(UrlToScrap, wanted_list=WantedList)"
   ]
  },
  {
   "cell_type": "code",
   "execution_count": 38,
   "id": "ed4002a3-96ba-41ef-bc04-856eb0c55cde",
   "metadata": {},
   "outputs": [
    {
     "name": "stdout",
     "output_type": "stream",
     "text": [
      "['Full Moon over Noah’s Ark: An Odyssey to Mount Ararat and Beyond', 'ce60436f52c5ee68', 'Books', '£49.43', '£0.00', 'In stock (15 available)', '0']\n"
     ]
    }
   ],
   "source": [
    "another_book_url = 'https://books.toscrape.com/catalogue/full-moon-over-noahs-ark-an-odyssey-to-mount-ararat-and-beyond_811/index.html'\n",
    "\n",
    "scraped_data = InfoScraper.get_result_similar(another_book_url)\n",
    "print (scraped_data)"
   ]
  },
  {
   "cell_type": "code",
   "execution_count": 40,
   "id": "4a14d556-7c68-4dfe-9110-25a20a8f699a",
   "metadata": {},
   "outputs": [],
   "source": [
    "#BooksByCategoryScraper.py\n",
    "from autoscraper import AutoScraper\n",
    "import pandas as pd\n",
    " \n",
    "#BooksUrlScraper section\n",
    "mistry = 'https://books.toscrape.com/catalogue/category/books/mystery_3/index.html'\n",
    "WantedList=[\"https://books.toscrape.com/catalogue/sharp-objects_997/index.html\"]\n",
    "BooksUrlScraper = AutoScraper()\n",
    "BooksUrlScraper.build(mistry, wanted_list=WantedList)\n",
    " \n",
    "#BookInfoScraper section\n",
    "BookPageUrl = \"https://books.toscrape.com/catalogue/sharp-objects_997/index.html\" \n",
    "WantedList=[\"Sharp Objects\", \"£47.82\"]\n",
    " \n",
    "BookInfoScraper = AutoScraper()\n",
    "BookInfoScraper.build(BookPageUrl, wanted_list=WantedList)\n",
    " \n",
    "#Scraping info of each book and storing into an excel file\n",
    "BooksUrlList = BooksUrlScraper.get_result_similar(mistry) \n",
    "BooksInfoList = []\n",
    "for Url in BooksUrlList:\n",
    "  book_info= BookInfoScraper.get_result_exact(Url)\n",
    "  BooksInfoList.append(book_info)\n",
    "df = pd.DataFrame(BooksInfoList, columns =[\"Book Title\", \"Price\"])\n",
    "df.to_excel(\"BooksInMistryCategory.xlsx\")"
   ]
  },
  {
   "cell_type": "code",
   "execution_count": 46,
   "id": "7fcf26bd-585a-4fc4-8174-f8a217526de0",
   "metadata": {},
   "outputs": [
    {
     "data": {
      "text/plain": [
       "['আমাদের শাদা বাড়ি',\n",
       " 'Author',\n",
       " 'Publisher',\n",
       " '9844581079',\n",
       " '48',\n",
       " 'বাংলাদেশ',\n",
       " 'বাংলা',\n",
       " 'শূন্য',\n",
       " 'কৃষ্ণপক্ষ',\n",
       " 'দূর নীলিমায়',\n",
       " 'কাপুরুষ',\n",
       " 'রূপকথার কল্পরাজ্য',\n",
       " 'রূপকথার যাদুর পাটি',\n",
       " 'অনুভূতির আলাপন',\n",
       " 'তিলোত্তমা বিষয়ক পাপ',\n",
       " 'আয়না কেমন আছে',\n",
       " 'চরের মাস্টার কম্পিউটার ইঞ্জিনিয়ার',\n",
       " 'মানুষছবি',\n",
       " 'মায়ামতি',\n",
       " 'এবং হিমু',\n",
       " 'আশাবরী',\n",
       " 'শ্রাবণ মেঘের দিন',\n",
       " 'মহাযাত্রা - দ্বিতীয় খণ্ড',\n",
       " 'এই মেঘ, রৌদ্রছায়া',\n",
       " 'TK. 120',\n",
       " 'TK. 155',\n",
       " 'TK. 198',\n",
       " 'TK. 118',\n",
       " 'TK. 98',\n",
       " 'TK. 103',\n",
       " 'TK. 129',\n",
       " 'TK. 172',\n",
       " 'TK. 138',\n",
       " 'TK. 206',\n",
       " 'TK. 327',\n",
       " 'TK. 304',\n",
       " 'TK. 275',\n",
       " 'TK. 694',\n",
       " 'TK. 224',\n",
       " 'TK. 150',\n",
       " 'TK. 125',\n",
       " 'TK. 200',\n",
       " 'TK. 160',\n",
       " 'TK. 240',\n",
       " 'TK. 380',\n",
       " 'TK. 340',\n",
       " 'TK. 140',\n",
       " 'TK. 320',\n",
       " 'TK. 775',\n",
       " 'TK. 260',\n",
       " 'হুমায়ূন আহমেদ',\n",
       " 'আনিসুল হক',\n",
       " 'তানভীর রাফি',\n",
       " 'নিশো আল মামুন',\n",
       " 'সাদিয়া খান সুবাসিনী',\n",
       " 'ইমদাদুল হক মিলন',\n",
       " 'মুহম্মদ জাফর ইকবাল',\n",
       " 'প্লাবন রায়',\n",
       " 'সুমন্ত আসলাম',\n",
       " 'সেলিনা হোসেন',\n",
       " 'শমী কায়সার',\n",
       " 'আসিফ নজরুল',\n",
       " 'আবদুল্লাহ আল ইমরান',\n",
       " 'শ্যামল গঙ্গোপাধ্যায়',\n",
       " 'অধরা জাহান',\n",
       " 'শামীম শাহেদ',\n",
       " 'মাসউদ আহমাদ',\n",
       " 'তানভীর মেহেদী',\n",
       " 'আবু তাহের মিয়া',\n",
       " 'মোবারক হোসেন',\n",
       " 'ওয়াজেদা পারভীন পপি',\n",
       " 'পাপিয়া রশীদ দীপা',\n",
       " 'এমরান কবির',\n",
       " 'রাহিতুল ইসলাম',\n",
       " 'মোহাম্মদ অংকন',\n",
       " 'মৌরি মরিয়ম',\n",
       " 'অতিরিক্ত ছাড়',\n",
       " 'গল্প',\n",
       " 'মুক্তিযুদ্ধ',\n",
       " 'দর্শন',\n",
       " 'রান্নাবান্না, খাদ্য ও পুষ্টি',\n",
       " 'আহমদ ছফা',\n",
       " 'ড্যান ব্রাউন',\n",
       " 'পাঞ্জেরী পাবলিকেশন্স লিঃ',\n",
       " 'প্রথমা প্রকাশন',\n",
       " 'আদর্শ',\n",
       " 'বিসিএস প্রকাশন',\n",
       " 'হারপারকলিন্স পাবলিশার্স']"
      ]
     },
     "execution_count": 46,
     "metadata": {},
     "output_type": "execute_result"
    }
   ],
   "source": [
    "from autoscraper import AutoScraper\n",
    "UrlToScrap=\"https://www.rokomari.com/book/1333/amader-shada-bari\"\n",
    "WantedList=[\"আমাদের শাদা বাড়ি\", \"TK. 120 \"]\n",
    " \n",
    "InfoScraper = AutoScraper()\n",
    "InfoScraper.build(UrlToScrap, wanted_list=WantedList)"
   ]
  },
  {
   "cell_type": "code",
   "execution_count": 52,
   "id": "24020eaf-c0ba-4962-bda6-09645c2f2711",
   "metadata": {},
   "outputs": [
    {
     "data": {
      "text/plain": [
       "['রবীন্দ্র-রচনাবলী (১-১৮ খণ্ড) সুলভ সংস্করণ',\n",
       " 'Author',\n",
       " 'Publisher',\n",
       " '9788175222892( set)',\n",
       " '13480',\n",
       " 'ভারত',\n",
       " 'বাংলা',\n",
       " 'শেষের কবিতা',\n",
       " 'লিখব যা বলতে চাই (প্রথম সংকলন)',\n",
       " 'বসন্ত বিলাপ',\n",
       " 'আরজ আলী মাতুব্বর রচনাসমগ্র-২',\n",
       " 'আরজ আলী মাতুব্বর রচনাসমগ্র-৩',\n",
       " 'আহমদ ছফা রচনাবলি ১ম খণ্ড',\n",
       " 'আহমদ ছফা রচনাবলী ১',\n",
       " 'শরৎ রচনাসমগ্র-১',\n",
       " 'রচনাসমগ্র',\n",
       " 'নজরুল রচনাবলী - ২য় খণ্ড',\n",
       " 'শরৎ রচনাসমগ্র - ৩য় খণ্ড',\n",
       " 'আহমদ ছফা রচনাবলি ৩য় খণ্ড',\n",
       " 'আহমদ ছফা রচনাবলী ২',\n",
       " 'আহমদ ছফা রচনাবলী ৪',\n",
       " 'আহমদ ছফা রচনাবলি ৫ম খণ্ড',\n",
       " 'শরৎ রচনাসমগ্র -৪র্থ খণ্ড',\n",
       " 'TK. 10,440',\n",
       " 'TK. 353',\n",
       " 'TK. 269',\n",
       " 'TK. 313',\n",
       " 'TK. 175',\n",
       " 'TK. 430',\n",
       " 'TK. 516',\n",
       " 'TK. 688',\n",
       " 'TK. 179',\n",
       " 'TK. 256']"
      ]
     },
     "execution_count": 52,
     "metadata": {},
     "output_type": "execute_result"
    }
   ],
   "source": [
    "from autoscraper import AutoScraper\n",
    "UrlToScrap=\"https://www.rokomari.com/book/144866/rabindhro-rochonaboli-1-18-part-sulov-edition\"\n",
    "WantedList=[\"রবীন্দ্র-রচনাবলী (১-১৮ খণ্ড) সুলভ সংস্করণ\", \"TK. 10,440\"]\n",
    " \n",
    "InfoScraper = AutoScraper()\n",
    "InfoScraper.build(UrlToScrap, wanted_list=WantedList)"
   ]
  },
  {
   "cell_type": "code",
   "execution_count": 104,
   "id": "bb0684bc-7a10-4a9e-abb7-ee4d27516b1a",
   "metadata": {},
   "outputs": [
    {
     "name": "stdout",
     "output_type": "stream",
     "text": [
      "['Bigg Boss OTT (2023) Season 2 Episode 10', 'Lust Stories (2018)', 'UP65 (2023) Season 2 Episode 7 (JioStudios Originals)', 'Kal Ho Naa Ho (2003)', 'Bigg Boss OTT (2023) Season 2 Episode 9', 'Ramayana: The Legend of Prince Rama (1992)', 'Sita Sings the Blues (2008)', 'Ramayana: The Epic (2010)', 'Sampoorna Ramayanam (1961)', 'UP65 (2023) Season 2 Episode 6 (JioStudios Originals)', 'Bigg Boss OTT (2023) Season 2 Episode 8', 'The Kapil Sharma Show (24th june 2023)', 'UP65 (2023) Season 2 Episode 5 (JioStudios Originals)', 'Hindustan Ki Kasam (1999)', 'Na Tum Jaano Na Hum (2002)', 'Poster Boys (2017)', 'Kajraare (2010)', 'Bigg Boss OTT (2023) Season 2 Episode 7', 'Mirror Game (2017)', 'Annhi Dea Mazaak Ae (2023) Punjabi', 'UP65 (2023) Season 2 Episode 4 JioStudios Originals', 'Rukh (2017)', 'Mr Ya Miss (2005)', '1920 London (2016)', 'Janasheen (2003)', 'Dil Pardesi Ho Gayaa (2003)', 'Swami (2007)', 'Bigg Boss OTT (2023) Season 2 Episode 6', 'Rafuchakkar (2023) Episode 9 JioStudios Originals', 'UP65 (2023) Season 2 Episode 3 JioStudios Originals', 'Mr 100% (2006)', 'Good Newwz (2019)', 'Tutak Tutak Tutiya (2016)', 'Shree (2013)', 'Life Partner (2009)', 'Yea Toh Two Much Ho Gayaa (2016)', 'Bigg Boss OTT (2023) Season 2 Episode 5', 'Rafuchakkar (2023) Episode 8 JioStudios Originals', 'UP65 (2023) Season 2 Episode 2 JioStudios Originals', 'Murder 2 (2011)', 'IMDb: 5.2', 'IMDb: 6.4', 'IMDb: 7.9', 'IMDb: 5.8', 'IMDb: 9.1', 'IMDb: 7.6', 'IMDb: 7.5', 'IMDb: 3.4', 'IMDb: 5.0', 'IMDb: 5.5', 'IMDb: 2.8', 'IMDb: 6.1', 'IMDb: 6.3', 'IMDb: 3.6', 'IMDb: 4.1', 'IMDb: 4.9', 'IMDb: 6.9', 'IMDb: 4.4', 'IMDb: 7.0', 'IMDb: 5.4', 'IMDb: 5.3', 'IMDb: 5.6', 'IMDb: 6.2', 'UK', '2022', 'Action', '2018', '2003', '1992', '2008', '2010', '1961', '1999', '2002', '2017', '2023', '2005', '2016', '2007', '2006', '2019', '2013', '2009', '2011', 'India', 'Bollywood', 'United States', 'Animation', '73 min', '120 min', '26 min', '186 min', '139 min', '170 min', '82 min', '98 min', '183 min', '25 min', '84 min', '71 min', '23 min', '146 min', '158 min', '128 min', '112 min', '113 min', '151 min', '106 min', '136 min', '162 min', '150 min', '140 min', '81 min', '38 min', '22 min', '137 min', '134 min', '138 min', '109 min', '90 min', '111 min', '24 min', '127 min', 'Chiranjeevi is a bachelor seeking his perfect match. His family rejects a lot of alliances and search for a bride continues, until Aadhya enters the scene. However, Aadhya’s mother resists...', 'An anthology of four stories that sheds light on modern relationships from the viewpoint of the Indian woman.', 'Jio Studios is all set to bring the bestselling Hindi novel UP65 by Nikhil Sachan as a web series, which will start streaming on Jio Cinema...', 'Naina, an introverted, perpetually depressed girl’s life changes when she meets Aman. But Aman has a secret of his own which changes their lives forever. Embroiled in all this is...', '1992 Indo-Japanese traditional animation feature film directed by Yugo Sako and Ram Mohan, produced by Sako and Krishna Shah and based on the Indian epic the Ramayana.', 'Utilizing the 1920s jazz vocals of Annette Hanshaw, the epic Indian tale of exiled prince Ramayana and his bride Sita is mirrored by a spurned woman’s contemporary personal life, and...', 'The film is a retelling of the story of Lord Rama, from his birth until his battle with Ravan at Sri Lanka.', 'This is the story of Lord Ram and his years spent in exile with his wife and brother, and also chronicles the end of the demon king Ravan and his...', 'Bigg Boss OTT season 2 will be soon streaming on Voot and the makers of the show have begun to reach out to celebrities.', 'Salman Khan brings the brand new season of Bigg Boss where the contestants are in for a wild ride. Get ready for the high-octane fights and uncut drama', 'A mother gives birth to twins. Unfortunately, they are separated. One of the children ends up in neighbouring Pakistan and grows up a devout Muslim named Tauheed, while the other...', 'Esha and Rahul start a letter based friendship that blossoms into love. They don’t exchange names or pictures. Her parents would like Esha to marry Akshay who’s eager to tie...', 'Life of three men comes in trouble when their photos appear on advertisement for sterilization.', 'Kajraare is a Bollywood film, released on October 15, 2010. The film is directed by Pooja Bhatt and stars Himesh Reshammiya and Mona Laizza. Himesh plays a singer who falls...', 'Professor Jay Verma finds himself in a precarious situation amidst his failing career and crumbling marital relationship. Struggling to make his way out, he seeks help from Ronnie, a student...', 'Raja is a blind man, falling in love with Roop. Facing her family, he fights for the love of his life.', 'Away from home in a boarding school, 18-year-old Dhruv is ignorant about the ongoing crisis in his family. His life takes an unexpected turn as he gets the news of...', 'When a womanizer is accidentally struck dead by one of his many girlfriends, he is given a second chance – he is reincarnated as a WOMAN. This isn’t a second...', 'Shivangi (Meera Chopra) lives in London with her husband Veer Singh. One day, he receives a gift from Rajasthan. From then, strange things happen with Veer and his condition deteriorates.', 'Australian based Lucky Kapoor (Fardeen Khan) has no interest whatsoever in his dad’s, Virendra Kapoor’s (Harsh Chhaya) business in India. Saba Karim Khan (Feroz Khan), however, does have an interest...', 'Major Ram is one of the few soldiers from the Indian Army who have been held captive in Pakistan, following the war with India. The Indian army and politicians are...', 'Swami, Radha and their kid shift to Mumbai after selling off their ancestral home in a village. In Mumbai, they get their kid admitted to a school that’s patronized by...', 'A twisted story of Pawan Kumar aka Prince who is accused of carrying out bizarre scams from diet biscuits to low-cost airlines. A man of many shades, is he a...', 'Mr. 100% – The real player is a story about a gigolo -Male Prostitute and his wife who is unknown about his profession. During his childhood, he has been made...', 'Two couples with the same surnames pursue in-vitro fertilisation and wait for their upcoming babies. Trouble ensues when they find that the sperms of each couple have been mixed with...', 'The Hindi version of the trilingual horror-comedy wherein a husband finds out his wife is possessed. The Telugu version is Abhinetri (2016) and the Tamil version is Devi(L) (2016)', 'Shree, an ordinary man, works at a telecom company. In love with Sonu but cannot marry yet as need to make some basic money. Randhawa, a wealthy businessman, in his...', 'The film is about three close friends, each one having a different perspective about marriage. Govinda plays a divorce lawyer in the film who doesn’t believe in marriage and is...', 'Lookalike twin brothers living in two different parts of the world get trapped in sticky situations when they unknowingly replace each other.', 'A former police officer gets hired by a gangster to trace missing call girls and their abductor.', 'Country: India', 'Country: India, Japan', 'Country: United States', 'Country: India, USA', 'Country: 2022', 'Genre: Bollywood, Reality', 'Genre: Bollywood, Comedy, Drama, Romance', 'Genre: Bollywood, Comedy, Drama', 'Genre: Bollywood, Comedy, Drama, Family, Romance', 'Genre: Action, Adventure, Animation, Bollywood, Family', 'Genre: Animation, Bollywood, Comedy, Fantasy, Music', 'Genre: Action, Adventure, Animation, Bollywood', 'Genre: Bollywood, Family, Fantasy', 'Genre: Bollywood, Comedy', 'Genre: Action, Bollywood, Drama, War', 'Genre: Bollywood, Drama, Romance', 'Genre: Bollywood, Crime, Drama, Romance', 'Genre: Bollywood, Crime, Mystery, Thriller', 'Genre: Bollywood, Comedy, Punjabi, Romance', 'Genre: Bollywood, Crime, Drama', 'Genre: Bollywood, Drama, Mystery', 'Genre: Bollywood, Horror, Mystery, Thriller', 'Genre: Action, Bollywood, Drama, Musical', 'Genre: Bollywood, Drama, Family, Musical', 'Genre: Action, Bollywood, Thriller', 'Genre: Bollywood, Mystery, Thriller', 'Genre: Bollywood, Comedy, Drama, Horror', 'Genre: Bollywood, Drama, Sci-fi, Science Fiction', 'Genre: Action, Bollywood, Drama', 'Genre: Bollywood, Drama', 'Genre: Action, Bollywood, Crime, Drama, Thriller']\n"
     ]
    }
   ],
   "source": [
    "from autoscraper import AutoScraper\n",
    "UrlToScrap=\"https://yomovies.team/genre/bollywood/\"\n",
    "WantedList=[\"Bigg Boss OTT (2023) Season 2 Episode 10\", \"IMDb: 5.2\", \"2022\", '73 min',\n",
    "           \"Chiranjeevi is a bachelor seeking his perfect match. His family rejects a lot of alliances and search for a bride continues, until Aadhya enters the scene. However, Aadhya’s mother resists…\"\n",
    "           ,'Country: India',\"Genre: Bollywood, Reality\"]\n",
    " \n",
    "scraper = AutoScraper()\n",
    "result = scraper.build(UrlToScrap, wanted_list=WantedList)\n",
    "print(result)"
   ]
  },
  {
   "cell_type": "code",
   "execution_count": 114,
   "id": "87c35e76-5dec-45d7-a879-18b3dcea5094",
   "metadata": {},
   "outputs": [
    {
     "name": "stdout",
     "output_type": "stream",
     "text": [
      "{'rule_vy61': ['Bigg Boss OTT (2023) Season 2 Episode 10', 'Lust Stories (2018)', 'UP65 (2023) Season 2 Episode 7 (JioStudios Originals)', 'Kal Ho Naa Ho (2003)', 'Bigg Boss OTT (2023) Season 2 Episode 9', 'Ramayana: The Legend of Prince Rama (1992)', 'Sita Sings the Blues (2008)', 'Ramayana: The Epic (2010)', 'Sampoorna Ramayanam (1961)', 'UP65 (2023) Season 2 Episode 6 (JioStudios Originals)', 'Bigg Boss OTT (2023) Season 2 Episode 8', 'The Kapil Sharma Show (24th june 2023)', 'UP65 (2023) Season 2 Episode 5 (JioStudios Originals)', 'Hindustan Ki Kasam (1999)', 'Na Tum Jaano Na Hum (2002)', 'Poster Boys (2017)', 'Kajraare (2010)', 'Bigg Boss OTT (2023) Season 2 Episode 7', 'Mirror Game (2017)', 'Annhi Dea Mazaak Ae (2023) Punjabi', 'UP65 (2023) Season 2 Episode 4 JioStudios Originals', 'Rukh (2017)', 'Mr Ya Miss (2005)', '1920 London (2016)', 'Janasheen (2003)', 'Dil Pardesi Ho Gayaa (2003)', 'Swami (2007)', 'Bigg Boss OTT (2023) Season 2 Episode 6', 'Rafuchakkar (2023) Episode 9 JioStudios Originals', 'UP65 (2023) Season 2 Episode 3 JioStudios Originals', 'Mr 100% (2006)', 'Good Newwz (2019)', 'Tutak Tutak Tutiya (2016)', 'Shree (2013)', 'Life Partner (2009)', 'Yea Toh Two Much Ho Gayaa (2016)', 'Bigg Boss OTT (2023) Season 2 Episode 5', 'Rafuchakkar (2023) Episode 8 JioStudios Originals', 'UP65 (2023) Season 2 Episode 2 JioStudios Originals', 'Murder 2 (2011)'], 'rule_nt7l': ['Bigg Boss OTT (2023) Season 2 Episode 10', 'Lust Stories (2018)', 'UP65 (2023) Season 2 Episode 7 (JioStudios Originals)', 'Kal Ho Naa Ho (2003)', 'Bigg Boss OTT (2023) Season 2 Episode 9', 'Ramayana: The Legend of Prince Rama (1992)', 'Sita Sings the Blues (2008)', 'Ramayana: The Epic (2010)', 'Sampoorna Ramayanam (1961)', 'UP65 (2023) Season 2 Episode 6 (JioStudios Originals)', 'Bigg Boss OTT (2023) Season 2 Episode 8', 'The Kapil Sharma Show (24th june 2023)', 'UP65 (2023) Season 2 Episode 5 (JioStudios Originals)', 'Hindustan Ki Kasam (1999)', 'Na Tum Jaano Na Hum (2002)', 'Poster Boys (2017)', 'Kajraare (2010)', 'Bigg Boss OTT (2023) Season 2 Episode 7', 'Mirror Game (2017)', 'Annhi Dea Mazaak Ae (2023) Punjabi', 'UP65 (2023) Season 2 Episode 4 JioStudios Originals', 'Rukh (2017)', 'Mr Ya Miss (2005)', '1920 London (2016)', 'Janasheen (2003)', 'Dil Pardesi Ho Gayaa (2003)', 'Swami (2007)', 'Bigg Boss OTT (2023) Season 2 Episode 6', 'Rafuchakkar (2023) Episode 9 JioStudios Originals', 'UP65 (2023) Season 2 Episode 3 JioStudios Originals', 'Mr 100% (2006)', 'Good Newwz (2019)', 'Tutak Tutak Tutiya (2016)', 'Shree (2013)', 'Life Partner (2009)', 'Yea Toh Two Much Ho Gayaa (2016)', 'Bigg Boss OTT (2023) Season 2 Episode 5', 'Rafuchakkar (2023) Episode 8 JioStudios Originals', 'UP65 (2023) Season 2 Episode 2 JioStudios Originals', 'Murder 2 (2011)'], 'rule_odgh': ['Bigg Boss OTT (2023) Season 2 Episode 10', 'Lust Stories (2018)', 'UP65 (2023) Season 2 Episode 7 (JioStudios Originals)', 'Kal Ho Naa Ho (2003)', 'Bigg Boss OTT (2023) Season 2 Episode 9', 'Ramayana: The Legend of Prince Rama (1992)', 'Sita Sings the Blues (2008)', 'Ramayana: The Epic (2010)', 'Sampoorna Ramayanam (1961)', 'UP65 (2023) Season 2 Episode 6 (JioStudios Originals)', 'Bigg Boss OTT (2023) Season 2 Episode 8', 'The Kapil Sharma Show (24th june 2023)', 'UP65 (2023) Season 2 Episode 5 (JioStudios Originals)', 'Hindustan Ki Kasam (1999)', 'Na Tum Jaano Na Hum (2002)', 'Poster Boys (2017)', 'Kajraare (2010)', 'Bigg Boss OTT (2023) Season 2 Episode 7', 'Mirror Game (2017)', 'Annhi Dea Mazaak Ae (2023) Punjabi', 'UP65 (2023) Season 2 Episode 4 JioStudios Originals', 'Rukh (2017)', 'Mr Ya Miss (2005)', '1920 London (2016)', 'Janasheen (2003)', 'Dil Pardesi Ho Gayaa (2003)', 'Swami (2007)', 'Bigg Boss OTT (2023) Season 2 Episode 6', 'Rafuchakkar (2023) Episode 9 JioStudios Originals', 'UP65 (2023) Season 2 Episode 3 JioStudios Originals', 'Mr 100% (2006)', 'Good Newwz (2019)', 'Tutak Tutak Tutiya (2016)', 'Shree (2013)', 'Life Partner (2009)', 'Yea Toh Two Much Ho Gayaa (2016)', 'Bigg Boss OTT (2023) Season 2 Episode 5', 'Rafuchakkar (2023) Episode 8 JioStudios Originals', 'UP65 (2023) Season 2 Episode 2 JioStudios Originals', 'Murder 2 (2011)'], 'rule_zcv4': ['Bigg Boss OTT (2023) Season 2 Episode 10', 'Lust Stories (2018)', 'UP65 (2023) Season 2 Episode 7 (JioStudios Originals)', 'Kal Ho Naa Ho (2003)', 'Bigg Boss OTT (2023) Season 2 Episode 9', 'Ramayana: The Legend of Prince Rama (1992)', 'Sita Sings the Blues (2008)', 'Ramayana: The Epic (2010)', 'Sampoorna Ramayanam (1961)', 'UP65 (2023) Season 2 Episode 6 (JioStudios Originals)', 'Bigg Boss OTT (2023) Season 2 Episode 8', 'The Kapil Sharma Show (24th june 2023)', 'UP65 (2023) Season 2 Episode 5 (JioStudios Originals)', 'Hindustan Ki Kasam (1999)', 'Na Tum Jaano Na Hum (2002)', 'Poster Boys (2017)', 'Kajraare (2010)', 'Bigg Boss OTT (2023) Season 2 Episode 7', 'Mirror Game (2017)', 'Annhi Dea Mazaak Ae (2023) Punjabi', 'UP65 (2023) Season 2 Episode 4 JioStudios Originals', 'Rukh (2017)', 'Mr Ya Miss (2005)', '1920 London (2016)', 'Janasheen (2003)', 'Dil Pardesi Ho Gayaa (2003)', 'Swami (2007)', 'Bigg Boss OTT (2023) Season 2 Episode 6', 'Rafuchakkar (2023) Episode 9 JioStudios Originals', 'UP65 (2023) Season 2 Episode 3 JioStudios Originals', 'Mr 100% (2006)', 'Good Newwz (2019)', 'Tutak Tutak Tutiya (2016)', 'Shree (2013)', 'Life Partner (2009)', 'Yea Toh Two Much Ho Gayaa (2016)', 'Bigg Boss OTT (2023) Season 2 Episode 5', 'Rafuchakkar (2023) Episode 8 JioStudios Originals', 'UP65 (2023) Season 2 Episode 2 JioStudios Originals', 'Murder 2 (2011)'], 'rule_unnj': ['IMDb: 5.2', 'IMDb: 6.4', 'IMDb: 5.2', 'IMDb: 7.9', 'IMDb: 5.8', 'IMDb: 9.1', 'IMDb: 7.6', 'IMDb: 5.8', 'IMDb: 7.5', 'IMDb: 5.2', 'IMDb: 5.2', 'IMDb: 5.2', 'IMDb: 5.2', 'IMDb: 3.4', 'IMDb: 5.0', 'IMDb: 5.5', 'IMDb: 2.8', 'IMDb: 5.2', 'IMDb: 6.1', 'IMDb: 5.2', 'IMDb: 5.2', 'IMDb: 6.3', 'IMDb: 3.6', 'IMDb: 4.1', 'IMDb: 6.3', 'IMDb: 4.9', 'IMDb: 6.9', 'IMDb: 5.2', 'IMDb: 5.2', 'IMDb: 5.2', 'IMDb: 4.4', 'IMDb: 7.0', 'IMDb: 5.4', 'IMDb: 6.3', 'IMDb: 5.3', 'IMDb: 5.6', 'IMDb: 5.2', 'IMDb: 5.2', 'IMDb: 5.2', 'IMDb: 6.2'], 'rule_bjkw': ['IMDb: 5.2', 'IMDb: 6.4', 'IMDb: 5.2', 'IMDb: 7.9', 'IMDb: 5.8', 'IMDb: 9.1', 'IMDb: 7.6', 'IMDb: 5.8', 'IMDb: 7.5', 'IMDb: 5.2', 'IMDb: 5.2', 'IMDb: 5.2', 'IMDb: 5.2', 'IMDb: 3.4', 'IMDb: 5.0', 'IMDb: 5.5', 'IMDb: 2.8', 'IMDb: 5.2', 'IMDb: 6.1', 'IMDb: 5.2', 'IMDb: 5.2', 'IMDb: 6.3', 'IMDb: 3.6', 'IMDb: 4.1', 'IMDb: 6.3', 'IMDb: 4.9', 'IMDb: 6.9', 'IMDb: 5.2', 'IMDb: 5.2', 'IMDb: 5.2', 'IMDb: 4.4', 'IMDb: 7.0', 'IMDb: 5.4', 'IMDb: 6.3', 'IMDb: 5.3', 'IMDb: 5.6', 'IMDb: 5.2', 'IMDb: 5.2', 'IMDb: 5.2', 'IMDb: 6.2'], 'rule_19v7': ['IMDb: 5.2', 'IMDb: 6.4', 'IMDb: 5.2', 'IMDb: 7.9', 'IMDb: 5.8', 'IMDb: 9.1', 'IMDb: 7.6', 'IMDb: 5.8', 'IMDb: 7.5', 'IMDb: 5.2', 'IMDb: 5.2', 'IMDb: 5.2', 'IMDb: 5.2', 'IMDb: 3.4', 'IMDb: 5.0', 'IMDb: 5.5', 'IMDb: 2.8', 'IMDb: 5.2', 'IMDb: 6.1', 'IMDb: 5.2', 'IMDb: 5.2', 'IMDb: 6.3', 'IMDb: 3.6', 'IMDb: 4.1', 'IMDb: 6.3', 'IMDb: 4.9', 'IMDb: 6.9', 'IMDb: 5.2', 'IMDb: 5.2', 'IMDb: 5.2', 'IMDb: 4.4', 'IMDb: 7.0', 'IMDb: 5.4', 'IMDb: 6.3', 'IMDb: 5.3', 'IMDb: 5.6', 'IMDb: 5.2', 'IMDb: 5.2', 'IMDb: 5.2', 'IMDb: 6.2'], 'rule_yux5': ['IMDb: 5.2', 'IMDb: 6.4', 'IMDb: 5.2', 'IMDb: 7.9', 'IMDb: 5.8', 'IMDb: 9.1', 'IMDb: 7.6', 'IMDb: 5.8', 'IMDb: 7.5', 'IMDb: 5.2', 'IMDb: 5.2', 'IMDb: 5.2', 'IMDb: 5.2', 'IMDb: 3.4', 'IMDb: 5.0', 'IMDb: 5.5', 'IMDb: 2.8', 'IMDb: 5.2', 'IMDb: 6.1', 'IMDb: 5.2', 'IMDb: 5.2', 'IMDb: 6.3', 'IMDb: 3.6', 'IMDb: 4.1', 'IMDb: 6.3', 'IMDb: 4.9', 'IMDb: 6.9', 'IMDb: 5.2', 'IMDb: 5.2', 'IMDb: 5.2', 'IMDb: 4.4', 'IMDb: 7.0', 'IMDb: 5.4', 'IMDb: 6.3', 'IMDb: 5.3', 'IMDb: 5.6', 'IMDb: 5.2', 'IMDb: 5.2', 'IMDb: 5.2', 'IMDb: 6.2'], 'rule_q6xm': ['IMDb: 5.2', 'IMDb: 6.4', 'IMDb: 5.2', 'IMDb: 7.9', 'IMDb: 5.8', 'IMDb: 9.1', 'IMDb: 7.6', 'IMDb: 5.8', 'IMDb: 7.5', 'IMDb: 5.2', 'IMDb: 5.2', 'IMDb: 5.2', 'IMDb: 5.2', 'IMDb: 3.4', 'IMDb: 5.0', 'IMDb: 5.5', 'IMDb: 2.8', 'IMDb: 5.2', 'IMDb: 6.1', 'IMDb: 5.2', 'IMDb: 5.2', 'IMDb: 6.3', 'IMDb: 3.6', 'IMDb: 4.1', 'IMDb: 6.3', 'IMDb: 4.9', 'IMDb: 6.9', 'IMDb: 5.2', 'IMDb: 5.2', 'IMDb: 5.2', 'IMDb: 4.4', 'IMDb: 7.0', 'IMDb: 5.4', 'IMDb: 6.3', 'IMDb: 5.3', 'IMDb: 5.6', 'IMDb: 5.2', 'IMDb: 5.2', 'IMDb: 5.2', 'IMDb: 6.2'], 'rule_q8x1': ['IMDb: 5.2', 'IMDb: 6.4', 'IMDb: 5.2', 'IMDb: 7.9', 'IMDb: 5.8', 'IMDb: 9.1', 'IMDb: 7.6', 'IMDb: 5.8', 'IMDb: 7.5', 'IMDb: 5.2', 'IMDb: 5.2', 'IMDb: 5.2', 'IMDb: 5.2', 'IMDb: 3.4', 'IMDb: 5.0', 'IMDb: 5.5', 'IMDb: 2.8', 'IMDb: 5.2', 'IMDb: 6.1', 'IMDb: 5.2', 'IMDb: 5.2', 'IMDb: 6.3', 'IMDb: 3.6', 'IMDb: 4.1', 'IMDb: 6.3', 'IMDb: 4.9', 'IMDb: 6.9', 'IMDb: 5.2', 'IMDb: 5.2', 'IMDb: 5.2', 'IMDb: 4.4', 'IMDb: 7.0', 'IMDb: 5.4', 'IMDb: 6.3', 'IMDb: 5.3', 'IMDb: 5.6', 'IMDb: 5.2', 'IMDb: 5.2', 'IMDb: 5.2', 'IMDb: 6.2'], 'rule_3es2': ['IMDb: 5.2', 'IMDb: 6.4', 'IMDb: 5.2', 'IMDb: 7.9', 'IMDb: 5.8', 'IMDb: 9.1', 'IMDb: 7.6', 'IMDb: 5.8', 'IMDb: 7.5', 'IMDb: 5.2', 'IMDb: 5.2', 'IMDb: 5.2', 'IMDb: 5.2', 'IMDb: 3.4', 'IMDb: 5.0', 'IMDb: 5.5', 'IMDb: 2.8', 'IMDb: 5.2', 'IMDb: 6.1', 'IMDb: 5.2', 'IMDb: 5.2', 'IMDb: 6.3', 'IMDb: 3.6', 'IMDb: 4.1', 'IMDb: 6.3', 'IMDb: 4.9', 'IMDb: 6.9', 'IMDb: 5.2', 'IMDb: 5.2', 'IMDb: 5.2', 'IMDb: 4.4', 'IMDb: 7.0', 'IMDb: 5.4', 'IMDb: 6.3', 'IMDb: 5.3', 'IMDb: 5.6', 'IMDb: 5.2', 'IMDb: 5.2', 'IMDb: 5.2', 'IMDb: 6.2'], 'rule_m316': ['IMDb: 5.2', 'IMDb: 6.4', 'IMDb: 5.2', 'IMDb: 7.9', 'IMDb: 5.8', 'IMDb: 9.1', 'IMDb: 7.6', 'IMDb: 5.8', 'IMDb: 7.5', 'IMDb: 5.2', 'IMDb: 5.2', 'IMDb: 5.2', 'IMDb: 5.2', 'IMDb: 3.4', 'IMDb: 5.0', 'IMDb: 5.5', 'IMDb: 2.8', 'IMDb: 5.2', 'IMDb: 6.1', 'IMDb: 5.2', 'IMDb: 5.2', 'IMDb: 6.3', 'IMDb: 3.6', 'IMDb: 4.1', 'IMDb: 6.3', 'IMDb: 4.9', 'IMDb: 6.9', 'IMDb: 5.2', 'IMDb: 5.2', 'IMDb: 5.2', 'IMDb: 4.4', 'IMDb: 7.0', 'IMDb: 5.4', 'IMDb: 6.3', 'IMDb: 5.3', 'IMDb: 5.6', 'IMDb: 5.2', 'IMDb: 5.2', 'IMDb: 5.2', 'IMDb: 6.2'], 'rule_u6ee': ['IMDb: 5.2', 'IMDb: 6.4', 'IMDb: 5.2', 'IMDb: 7.9', 'IMDb: 5.8', 'IMDb: 9.1', 'IMDb: 7.6', 'IMDb: 5.8', 'IMDb: 7.5', 'IMDb: 5.2', 'IMDb: 5.2', 'IMDb: 5.2', 'IMDb: 5.2', 'IMDb: 3.4', 'IMDb: 5.0', 'IMDb: 5.5', 'IMDb: 2.8', 'IMDb: 5.2', 'IMDb: 6.1', 'IMDb: 5.2', 'IMDb: 5.2', 'IMDb: 6.3', 'IMDb: 3.6', 'IMDb: 4.1', 'IMDb: 6.3', 'IMDb: 4.9', 'IMDb: 6.9', 'IMDb: 5.2', 'IMDb: 5.2', 'IMDb: 5.2', 'IMDb: 4.4', 'IMDb: 7.0', 'IMDb: 5.4', 'IMDb: 6.3', 'IMDb: 5.3', 'IMDb: 5.6', 'IMDb: 5.2', 'IMDb: 5.2', 'IMDb: 5.2', 'IMDb: 6.2'], 'rule_pk4d': ['IMDb: 5.2', 'IMDb: 6.4', 'IMDb: 5.2', 'IMDb: 7.9', 'IMDb: 5.8', 'IMDb: 9.1', 'IMDb: 7.6', 'IMDb: 5.8', 'IMDb: 7.5', 'IMDb: 5.2', 'IMDb: 5.2', 'IMDb: 5.2', 'IMDb: 5.2', 'IMDb: 3.4', 'IMDb: 5.0', 'IMDb: 5.5', 'IMDb: 2.8', 'IMDb: 5.2', 'IMDb: 6.1', 'IMDb: 5.2', 'IMDb: 5.2', 'IMDb: 6.3', 'IMDb: 3.6', 'IMDb: 4.1', 'IMDb: 6.3', 'IMDb: 4.9', 'IMDb: 6.9', 'IMDb: 5.2', 'IMDb: 5.2', 'IMDb: 5.2', 'IMDb: 4.4', 'IMDb: 7.0', 'IMDb: 5.4', 'IMDb: 6.3', 'IMDb: 5.3', 'IMDb: 5.6', 'IMDb: 5.2', 'IMDb: 5.2', 'IMDb: 5.2', 'IMDb: 6.2'], 'rule_pdbl': ['IMDb: 5.2', 'IMDb: 6.4', 'IMDb: 5.2', 'IMDb: 7.9', 'IMDb: 5.8', 'IMDb: 9.1', 'IMDb: 7.6', 'IMDb: 5.8', 'IMDb: 7.5', 'IMDb: 5.2', 'IMDb: 5.2', 'IMDb: 5.2', 'IMDb: 5.2', 'IMDb: 3.4', 'IMDb: 5.0', 'IMDb: 5.5', 'IMDb: 2.8', 'IMDb: 5.2', 'IMDb: 6.1', 'IMDb: 5.2', 'IMDb: 5.2', 'IMDb: 6.3', 'IMDb: 3.6', 'IMDb: 4.1', 'IMDb: 6.3', 'IMDb: 4.9', 'IMDb: 6.9', 'IMDb: 5.2', 'IMDb: 5.2', 'IMDb: 5.2', 'IMDb: 4.4', 'IMDb: 7.0', 'IMDb: 5.4', 'IMDb: 6.3', 'IMDb: 5.3', 'IMDb: 5.6', 'IMDb: 5.2', 'IMDb: 5.2', 'IMDb: 5.2', 'IMDb: 6.2'], 'rule_eqfk': ['IMDb: 5.2', 'IMDb: 6.4', 'IMDb: 5.2', 'IMDb: 7.9', 'IMDb: 5.8', 'IMDb: 9.1', 'IMDb: 7.6', 'IMDb: 5.8', 'IMDb: 7.5', 'IMDb: 5.2', 'IMDb: 5.2', 'IMDb: 5.2', 'IMDb: 5.2', 'IMDb: 3.4', 'IMDb: 5.0', 'IMDb: 5.5', 'IMDb: 2.8', 'IMDb: 5.2', 'IMDb: 6.1', 'IMDb: 5.2', 'IMDb: 5.2', 'IMDb: 6.3', 'IMDb: 3.6', 'IMDb: 4.1', 'IMDb: 6.3', 'IMDb: 4.9', 'IMDb: 6.9', 'IMDb: 5.2', 'IMDb: 5.2', 'IMDb: 5.2', 'IMDb: 4.4', 'IMDb: 7.0', 'IMDb: 5.4', 'IMDb: 6.3', 'IMDb: 5.3', 'IMDb: 5.6', 'IMDb: 5.2', 'IMDb: 5.2', 'IMDb: 5.2', 'IMDb: 6.2'], 'rule_qm5h': ['IMDb: 5.2', 'IMDb: 6.4', 'IMDb: 5.2', 'IMDb: 7.9', 'IMDb: 5.8', 'IMDb: 9.1', 'IMDb: 7.6', 'IMDb: 5.8', 'IMDb: 7.5', 'IMDb: 5.2', 'IMDb: 5.2', 'IMDb: 5.2', 'IMDb: 5.2', 'IMDb: 3.4', 'IMDb: 5.0', 'IMDb: 5.5', 'IMDb: 2.8', 'IMDb: 5.2', 'IMDb: 6.1', 'IMDb: 5.2', 'IMDb: 5.2', 'IMDb: 6.3', 'IMDb: 3.6', 'IMDb: 4.1', 'IMDb: 6.3', 'IMDb: 4.9', 'IMDb: 6.9', 'IMDb: 5.2', 'IMDb: 5.2', 'IMDb: 5.2', 'IMDb: 4.4', 'IMDb: 7.0', 'IMDb: 5.4', 'IMDb: 6.3', 'IMDb: 5.3', 'IMDb: 5.6', 'IMDb: 5.2', 'IMDb: 5.2', 'IMDb: 5.2', 'IMDb: 6.2'], 'rule_vyzn': ['IMDb: 5.2', 'IMDb: 6.4', 'IMDb: 5.2', 'IMDb: 7.9', 'IMDb: 5.8', 'IMDb: 9.1', 'IMDb: 7.6', 'IMDb: 5.8', 'IMDb: 7.5', 'IMDb: 5.2', 'IMDb: 5.2', 'IMDb: 5.2', 'IMDb: 5.2', 'IMDb: 3.4', 'IMDb: 5.0', 'IMDb: 5.5', 'IMDb: 2.8', 'IMDb: 5.2', 'IMDb: 6.1', 'IMDb: 5.2', 'IMDb: 5.2', 'IMDb: 6.3', 'IMDb: 3.6', 'IMDb: 4.1', 'IMDb: 6.3', 'IMDb: 4.9', 'IMDb: 6.9', 'IMDb: 5.2', 'IMDb: 5.2', 'IMDb: 5.2', 'IMDb: 4.4', 'IMDb: 7.0', 'IMDb: 5.4', 'IMDb: 6.3', 'IMDb: 5.3', 'IMDb: 5.6', 'IMDb: 5.2', 'IMDb: 5.2', 'IMDb: 5.2', 'IMDb: 6.2'], 'rule_3mjw': ['IMDb: 5.2', 'IMDb: 6.4', 'IMDb: 5.2', 'IMDb: 7.9', 'IMDb: 5.8', 'IMDb: 9.1', 'IMDb: 7.6', 'IMDb: 5.8', 'IMDb: 7.5', 'IMDb: 5.2', 'IMDb: 5.2', 'IMDb: 5.2', 'IMDb: 5.2', 'IMDb: 3.4', 'IMDb: 5.0', 'IMDb: 5.5', 'IMDb: 2.8', 'IMDb: 5.2', 'IMDb: 6.1', 'IMDb: 5.2', 'IMDb: 5.2', 'IMDb: 6.3', 'IMDb: 3.6', 'IMDb: 4.1', 'IMDb: 6.3', 'IMDb: 4.9', 'IMDb: 6.9', 'IMDb: 5.2', 'IMDb: 5.2', 'IMDb: 5.2', 'IMDb: 4.4', 'IMDb: 7.0', 'IMDb: 5.4', 'IMDb: 6.3', 'IMDb: 5.3', 'IMDb: 5.6', 'IMDb: 5.2', 'IMDb: 5.2', 'IMDb: 5.2', 'IMDb: 6.2'], 'rule_71fr': ['UK', '2022', 'Action'], 'rule_2qfj': ['2022', '2018', '2022', '2003', '2022', '1992', '2008', '2010', '1961', '2022', '2022', '2022', '2022', '1999', '2002', '2017', '2010', '2022', '2017', '2023', '2022', '2017', '2005', '2016', '2003', '2003', '2007', '2022', '2022', '2022', '2006', '2019', '2016', '2013', '2009', '2016', '2022', '2022', '2022', '2011'], 'rule_ylmj': ['2022', '2018', '2022', '2003', '2022', '1992', '2008', '2010', '1961', '2022', '2022', '2022', '2022', '1999', '2002', '2017', '2010', '2022', '2017', '2023', '2022', '2017', '2005', '2016', '2003', '2003', '2007', '2022', '2022', '2022', '2006', '2019', '2016', '2013', '2009', '2016', '2022', '2022', '2022', '2011'], 'rule_esed': ['2022', '2018', '2022', '2003', '2022', '1992', '2008', '2010', '1961', '2022', '2022', '2022', '2022', '1999', '2002', '2017', '2010', '2022', '2017', '2023', '2022', '2017', '2005', '2016', '2003', '2003', '2007', '2022', '2022', '2022', '2006', '2019', '2016', '2013', '2009', '2016', '2022', '2022', '2022', '2011'], 'rule_d9et': ['2022', '2018', '2022', '2003', '2022', '1992', '2008', '2010', '1961', '2022', '2022', '2022', '2022', '1999', '2002', '2017', '2010', '2022', '2017', '2023', '2022', '2017', '2005', '2016', '2003', '2003', '2007', '2022', '2022', '2022', '2006', '2019', '2016', '2013', '2009', '2016', '2022', '2022', '2022', '2011'], 'rule_5vz2': ['2022', '2018', '2022', '2003', '2022', '1992', '2008', '2010', '1961', '2022', '2022', '2022', '2022', '1999', '2002', '2017', '2010', '2022', '2017', '2023', '2022', '2017', '2005', '2016', '2003', '2003', '2007', '2022', '2022', '2022', '2006', '2019', '2016', '2013', '2009', '2016', '2022', '2022', '2022', '2011'], 'rule_2z21': ['India', 'Bollywood', 'India', 'Bollywood', 'India', 'Bollywood', 'India', 'Bollywood', 'India', 'Bollywood', 'India', 'Action', 'United States', 'Animation', 'India', 'Action', 'India', 'Bollywood', 'India', 'Bollywood', 'India', 'Bollywood', 'India', 'Bollywood', 'India', 'Bollywood', 'India', 'Action', 'India', 'Bollywood', 'India', 'Bollywood', 'India', 'Bollywood', 'India', 'Bollywood', 'India', 'Bollywood', 'India', 'Bollywood', 'India', 'Bollywood', 'India', 'Bollywood', 'India', 'Bollywood', 'India', 'Bollywood', 'India', 'Action', 'India', 'Bollywood', 'India', 'Bollywood', '2022', 'Bollywood', 'India', 'Action', 'India', 'Bollywood', 'India', 'Bollywood', 'India', 'Bollywood', 'India', 'Bollywood', 'India', 'Bollywood', 'India', 'Bollywood', 'India', 'Action', 'India', 'Bollywood', 'India', 'Action', 'India', 'Bollywood', 'India', 'Action'], 'rule_i6mb': ['2022', '2018', '2022', '2003', '2022', '1992', '2008', '2010', '1961', '2022', '2022', '2022', '2022', '1999', '2002', '2017', '2010', '2022', '2017', '2023', '2022', '2017', '2005', '2016', '2003', '2003', '2007', '2022', '2022', '2022', '2006', '2019', '2016', '2013', '2009', '2016', '2022', '2022', '2022', '2011'], 'rule_wgh9': ['2022', '2018', '2022', '2003', '2022', '1992', '2008', '2010', '1961', '2022', '2022', '2022', '2022', '1999', '2002', '2017', '2010', '2022', '2017', '2023', '2022', '2017', '2005', '2016', '2003', '2003', '2007', '2022', '2022', '2022', '2006', '2019', '2016', '2013', '2009', '2016', '2022', '2022', '2022', '2011'], 'rule_x550': ['2022', '2018', '2022', '2003', '2022', '1992', '2008', '2010', '1961', '2022', '2022', '2022', '2022', '1999', '2002', '2017', '2010', '2022', '2017', '2023', '2022', '2017', '2005', '2016', '2003', '2003', '2007', '2022', '2022', '2022', '2006', '2019', '2016', '2013', '2009', '2016', '2022', '2022', '2022', '2011'], 'rule_55y2': ['2022', '2018', '2022', '2003', '2022', '1992', '2008', '2010', '1961', '2022', '2022', '2022', '2022', '1999', '2002', '2017', '2010', '2022', '2017', '2023', '2022', '2017', '2005', '2016', '2003', '2003', '2007', '2022', '2022', '2022', '2006', '2019', '2016', '2013', '2009', '2016', '2022', '2022', '2022', '2011'], 'rule_vz0l': ['2022', '2018', '2022', '2003', '2022', '1992', '2008', '2010', '1961', '2022', '2022', '2022', '2022', '1999', '2002', '2017', '2010', '2022', '2017', '2023', '2022', '2017', '2005', '2016', '2003', '2003', '2007', '2022', '2022', '2022', '2006', '2019', '2016', '2013', '2009', '2016', '2022', '2022', '2022', '2011'], 'rule_sxua': ['2022', '2018', '2022', '2003', '2022', '1992', '2008', '2010', '1961', '2022', '2022', '2022', '2022', '1999', '2002', '2017', '2010', '2022', '2017', '2023', '2022', '2017', '2005', '2016', '2003', '2003', '2007', '2022', '2022', '2022', '2006', '2019', '2016', '2013', '2009', '2016', '2022', '2022', '2022', '2011'], 'rule_67o8': ['2022', '2018', '2022', '2003', '2022', '1992', '2008', '2010', '1961', '2022', '2022', '2022', '2022', '1999', '2002', '2017', '2010', '2022', '2017', '2023', '2022', '2017', '2005', '2016', '2003', '2003', '2007', '2022', '2022', '2022', '2006', '2019', '2016', '2013', '2009', '2016', '2022', '2022', '2022', '2011'], 'rule_4ms4': ['2022', '2018', '2022', '2003', '2022', '1992', '2008', '2010', '1961', '2022', '2022', '2022', '2022', '1999', '2002', '2017', '2010', '2022', '2017', '2023', '2022', '2017', '2005', '2016', '2003', '2003', '2007', '2022', '2022', '2022', '2006', '2019', '2016', '2013', '2009', '2016', '2022', '2022', '2022', '2011'], 'rule_pbt4': ['2022', '2018', '2022', '2003', '2022', '1992', '2008', '2010', '1961', '2022', '2022', '2022', '2022', '1999', '2002', '2017', '2010', '2022', '2017', '2023', '2022', '2017', '2005', '2016', '2003', '2003', '2007', '2022', '2022', '2022', '2006', '2019', '2016', '2013', '2009', '2016', '2022', '2022', '2022', '2011'], 'rule_0h4l': ['2022', '2018', '2022', '2003', '2022', '1992', '2008', '2010', '1961', '2022', '2022', '2022', '2022', '1999', '2002', '2017', '2010', '2022', '2017', '2023', '2022', '2017', '2005', '2016', '2003', '2003', '2007', '2022', '2022', '2022', '2006', '2019', '2016', '2013', '2009', '2016', '2022', '2022', '2022', '2011'], 'rule_bdwv': ['73 min', '120 min', '26 min', '186 min', '139 min', '170 min', '82 min', '98 min', '183 min', '25 min', '84 min', '71 min', '23 min', '146 min', '158 min', '128 min', '112 min', '73 min', '113 min', '151 min', '23 min', '106 min', '136 min', '120 min', '162 min', '150 min', '140 min', '81 min', '38 min', '22 min', '137 min', '134 min', '138 min', '109 min', '138 min', '90 min', '111 min', '26 min', '24 min', '127 min'], 'rule_t6fg': ['73 min', '120 min', '26 min', '186 min', '139 min', '170 min', '82 min', '98 min', '183 min', '25 min', '84 min', '71 min', '23 min', '146 min', '158 min', '128 min', '112 min', '73 min', '113 min', '151 min', '23 min', '106 min', '136 min', '120 min', '162 min', '150 min', '140 min', '81 min', '38 min', '22 min', '137 min', '134 min', '138 min', '109 min', '138 min', '90 min', '111 min', '26 min', '24 min', '127 min'], 'rule_hocd': ['Chiranjeevi is a bachelor seeking his perfect match. His family rejects a lot of alliances and search for a bride continues, until Aadhya enters the scene. However, Aadhya’s mother resists...', 'An anthology of four stories that sheds light on modern relationships from the viewpoint of the Indian woman.', 'Jio Studios is all set to bring the bestselling Hindi novel UP65 by Nikhil Sachan as a web series, which will start streaming on Jio Cinema...', 'Naina, an introverted, perpetually depressed girl’s life changes when she meets Aman. But Aman has a secret of his own which changes their lives forever. Embroiled in all this is...', 'Chiranjeevi is a bachelor seeking his perfect match. His family rejects a lot of alliances and search for a bride continues, until Aadhya enters the scene. However, Aadhya’s mother resists...', '1992 Indo-Japanese traditional animation feature film directed by Yugo Sako and Ram Mohan, produced by Sako and Krishna Shah and based on the Indian epic the Ramayana.', 'Utilizing the 1920s jazz vocals of Annette Hanshaw, the epic Indian tale of exiled prince Ramayana and his bride Sita is mirrored by a spurned woman’s contemporary personal life, and...', 'The film is a retelling of the story of Lord Rama, from his birth until his battle with Ravan at Sri Lanka.', 'This is the story of Lord Ram and his years spent in exile with his wife and brother, and also chronicles the end of the demon king Ravan and his...', 'Jio Studios is all set to bring the bestselling Hindi novel UP65 by Nikhil Sachan as a web series, which will start streaming on Jio Cinema...', 'Bigg Boss OTT season 2 will be soon streaming on Voot and the makers of the show have begun to reach out to celebrities.', 'Salman Khan brings the brand new season of Bigg Boss where the contestants are in for a wild ride. Get ready for the high-octane fights and uncut drama', 'Jio Studios is all set to bring the bestselling Hindi novel UP65 by Nikhil Sachan as a web series, which will start streaming on Jio Cinema...', 'A mother gives birth to twins. Unfortunately, they are separated. One of the children ends up in neighbouring Pakistan and grows up a devout Muslim named Tauheed, while the other...', 'Esha and Rahul start a letter based friendship that blossoms into love. They don’t exchange names or pictures. Her parents would like Esha to marry Akshay who’s eager to tie...', 'Life of three men comes in trouble when their photos appear on advertisement for sterilization.', 'Kajraare is a Bollywood film, released on October 15, 2010. The film is directed by Pooja Bhatt and stars Himesh Reshammiya and Mona Laizza. Himesh plays a singer who falls...', 'Bigg Boss OTT season 2 will be soon streaming on Voot and the makers of the show have begun to reach out to celebrities.', 'Professor Jay Verma finds himself in a precarious situation amidst his failing career and crumbling marital relationship. Struggling to make his way out, he seeks help from Ronnie, a student...', 'Raja is a blind man, falling in love with Roop. Facing her family, he fights for the love of his life.', 'Jio Studios is all set to bring the bestselling Hindi novel UP65 by Nikhil Sachan as a web series, which will start streaming on Jio Cinema...', 'Away from home in a boarding school, 18-year-old Dhruv is ignorant about the ongoing crisis in his family. His life takes an unexpected turn as he gets the news of...', 'When a womanizer is accidentally struck dead by one of his many girlfriends, he is given a second chance – he is reincarnated as a WOMAN. This isn’t a second...', 'Shivangi (Meera Chopra) lives in London with her husband Veer Singh. One day, he receives a gift from Rajasthan. From then, strange things happen with Veer and his condition deteriorates.', 'Australian based Lucky Kapoor (Fardeen Khan) has no interest whatsoever in his dad’s, Virendra Kapoor’s (Harsh Chhaya) business in India. Saba Karim Khan (Feroz Khan), however, does have an interest...', 'Major Ram is one of the few soldiers from the Indian Army who have been held captive in Pakistan, following the war with India. The Indian army and politicians are...', 'Swami, Radha and their kid shift to Mumbai after selling off their ancestral home in a village. In Mumbai, they get their kid admitted to a school that’s patronized by...', 'Bigg Boss OTT season 2 will be soon streaming on Voot and the makers of the show have begun to reach out to celebrities.', 'A twisted story of Pawan Kumar aka Prince who is accused of carrying out bizarre scams from diet biscuits to low-cost airlines. A man of many shades, is he a...', 'Jio Studios is all set to bring the bestselling Hindi novel UP65 by Nikhil Sachan as a web series, which will start streaming on Jio Cinema...', 'Mr. 100% – The real player is a story about a gigolo -Male Prostitute and his wife who is unknown about his profession. During his childhood, he has been made...', 'Two couples with the same surnames pursue in-vitro fertilisation and wait for their upcoming babies. Trouble ensues when they find that the sperms of each couple have been mixed with...', 'The Hindi version of the trilingual horror-comedy wherein a husband finds out his wife is possessed. The Telugu version is Abhinetri (2016) and the Tamil version is Devi(L) (2016)', 'Shree, an ordinary man, works at a telecom company. In love with Sonu but cannot marry yet as need to make some basic money. Randhawa, a wealthy businessman, in his...', 'The film is about three close friends, each one having a different perspective about marriage. Govinda plays a divorce lawyer in the film who doesn’t believe in marriage and is...', 'Lookalike twin brothers living in two different parts of the world get trapped in sticky situations when they unknowingly replace each other.', 'Bigg Boss OTT season 2 will be soon streaming on Voot and the makers of the show have begun to reach out to celebrities.', 'A twisted story of Pawan Kumar aka Prince who is accused of carrying out bizarre scams from diet biscuits to low-cost airlines. A man of many shades, is he a...', 'Jio Studios is all set to bring the bestselling Hindi novel UP65 by Nikhil Sachan as a web series, which will start streaming on Jio Cinema...', 'A former police officer gets hired by a gangster to trace missing call girls and their abductor.'], 'rule_zriv': ['Chiranjeevi is a bachelor seeking his perfect match. His family rejects a lot of alliances and search for a bride continues, until Aadhya enters the scene. However, Aadhya’s mother resists...', 'An anthology of four stories that sheds light on modern relationships from the viewpoint of the Indian woman.', 'Jio Studios is all set to bring the bestselling Hindi novel UP65 by Nikhil Sachan as a web series, which will start streaming on Jio Cinema...', 'Naina, an introverted, perpetually depressed girl’s life changes when she meets Aman. But Aman has a secret of his own which changes their lives forever. Embroiled in all this is...', 'Chiranjeevi is a bachelor seeking his perfect match. His family rejects a lot of alliances and search for a bride continues, until Aadhya enters the scene. However, Aadhya’s mother resists...', '1992 Indo-Japanese traditional animation feature film directed by Yugo Sako and Ram Mohan, produced by Sako and Krishna Shah and based on the Indian epic the Ramayana.', 'Utilizing the 1920s jazz vocals of Annette Hanshaw, the epic Indian tale of exiled prince Ramayana and his bride Sita is mirrored by a spurned woman’s contemporary personal life, and...', 'The film is a retelling of the story of Lord Rama, from his birth until his battle with Ravan at Sri Lanka.', 'This is the story of Lord Ram and his years spent in exile with his wife and brother, and also chronicles the end of the demon king Ravan and his...', 'Jio Studios is all set to bring the bestselling Hindi novel UP65 by Nikhil Sachan as a web series, which will start streaming on Jio Cinema...', 'Bigg Boss OTT season 2 will be soon streaming on Voot and the makers of the show have begun to reach out to celebrities.', 'Salman Khan brings the brand new season of Bigg Boss where the contestants are in for a wild ride. Get ready for the high-octane fights and uncut drama', 'Jio Studios is all set to bring the bestselling Hindi novel UP65 by Nikhil Sachan as a web series, which will start streaming on Jio Cinema...', 'A mother gives birth to twins. Unfortunately, they are separated. One of the children ends up in neighbouring Pakistan and grows up a devout Muslim named Tauheed, while the other...', 'Esha and Rahul start a letter based friendship that blossoms into love. They don’t exchange names or pictures. Her parents would like Esha to marry Akshay who’s eager to tie...', 'Life of three men comes in trouble when their photos appear on advertisement for sterilization.', 'Kajraare is a Bollywood film, released on October 15, 2010. The film is directed by Pooja Bhatt and stars Himesh Reshammiya and Mona Laizza. Himesh plays a singer who falls...', 'Bigg Boss OTT season 2 will be soon streaming on Voot and the makers of the show have begun to reach out to celebrities.', 'Professor Jay Verma finds himself in a precarious situation amidst his failing career and crumbling marital relationship. Struggling to make his way out, he seeks help from Ronnie, a student...', 'Raja is a blind man, falling in love with Roop. Facing her family, he fights for the love of his life.', 'Jio Studios is all set to bring the bestselling Hindi novel UP65 by Nikhil Sachan as a web series, which will start streaming on Jio Cinema...', 'Away from home in a boarding school, 18-year-old Dhruv is ignorant about the ongoing crisis in his family. His life takes an unexpected turn as he gets the news of...', 'When a womanizer is accidentally struck dead by one of his many girlfriends, he is given a second chance – he is reincarnated as a WOMAN. This isn’t a second...', 'Shivangi (Meera Chopra) lives in London with her husband Veer Singh. One day, he receives a gift from Rajasthan. From then, strange things happen with Veer and his condition deteriorates.', 'Australian based Lucky Kapoor (Fardeen Khan) has no interest whatsoever in his dad’s, Virendra Kapoor’s (Harsh Chhaya) business in India. Saba Karim Khan (Feroz Khan), however, does have an interest...', 'Major Ram is one of the few soldiers from the Indian Army who have been held captive in Pakistan, following the war with India. The Indian army and politicians are...', 'Swami, Radha and their kid shift to Mumbai after selling off their ancestral home in a village. In Mumbai, they get their kid admitted to a school that’s patronized by...', 'Bigg Boss OTT season 2 will be soon streaming on Voot and the makers of the show have begun to reach out to celebrities.', 'A twisted story of Pawan Kumar aka Prince who is accused of carrying out bizarre scams from diet biscuits to low-cost airlines. A man of many shades, is he a...', 'Jio Studios is all set to bring the bestselling Hindi novel UP65 by Nikhil Sachan as a web series, which will start streaming on Jio Cinema...', 'Mr. 100% – The real player is a story about a gigolo -Male Prostitute and his wife who is unknown about his profession. During his childhood, he has been made...', 'Two couples with the same surnames pursue in-vitro fertilisation and wait for their upcoming babies. Trouble ensues when they find that the sperms of each couple have been mixed with...', 'The Hindi version of the trilingual horror-comedy wherein a husband finds out his wife is possessed. The Telugu version is Abhinetri (2016) and the Tamil version is Devi(L) (2016)', 'Shree, an ordinary man, works at a telecom company. In love with Sonu but cannot marry yet as need to make some basic money. Randhawa, a wealthy businessman, in his...', 'The film is about three close friends, each one having a different perspective about marriage. Govinda plays a divorce lawyer in the film who doesn’t believe in marriage and is...', 'Lookalike twin brothers living in two different parts of the world get trapped in sticky situations when they unknowingly replace each other.', 'Bigg Boss OTT season 2 will be soon streaming on Voot and the makers of the show have begun to reach out to celebrities.', 'A twisted story of Pawan Kumar aka Prince who is accused of carrying out bizarre scams from diet biscuits to low-cost airlines. A man of many shades, is he a...', 'Jio Studios is all set to bring the bestselling Hindi novel UP65 by Nikhil Sachan as a web series, which will start streaming on Jio Cinema...', 'A former police officer gets hired by a gangster to trace missing call girls and their abductor.'], 'rule_vthf': ['Country: India', 'Country: India', 'Country: India', 'Country: India', 'Country: India', 'Country: India, Japan', 'Country: United States', 'Country: India', 'Country: India', 'Country: India', 'Country: India', 'Country: India', 'Country: India', 'Country: India', 'Country: India', 'Country: India', 'Country: India', 'Country: India', 'Country: India, USA', 'Country: India', 'Country: India', 'Country: India', 'Country: India', 'Country: India', 'Country: India', 'Country: India', 'Country: India', 'Country: 2022', 'Country: India', 'Country: India', 'Country: India', 'Country: India', 'Country: India', 'Country: India', 'Country: India', 'Country: India', 'Country: India', 'Country: India', 'Country: India', 'Country: India'], 'rule_dg8k': ['Country: India', 'Country: India', 'Country: India', 'Country: India', 'Country: India', 'Country: India, Japan', 'Country: United States', 'Country: India', 'Country: India', 'Country: India', 'Country: India', 'Country: India', 'Country: India', 'Country: India', 'Country: India', 'Country: India', 'Country: India', 'Country: India', 'Country: India, USA', 'Country: India', 'Country: India', 'Country: India', 'Country: India', 'Country: India', 'Country: India', 'Country: India', 'Country: India', 'Country: 2022', 'Country: India', 'Country: India', 'Country: India', 'Country: India', 'Country: India', 'Country: India', 'Country: India', 'Country: India', 'Country: India', 'Country: India', 'Country: India', 'Country: India'], 'rule_hq4m': ['Country: India', 'Country: India', 'Country: India', 'Country: India', 'Country: India', 'Country: India, Japan', 'Country: United States', 'Country: India', 'Country: India', 'Country: India', 'Country: India', 'Country: India', 'Country: India', 'Country: India', 'Country: India', 'Country: India', 'Country: India', 'Country: India', 'Country: India, USA', 'Country: India', 'Country: India', 'Country: India', 'Country: India', 'Country: India', 'Country: India', 'Country: India', 'Country: India', 'Country: 2022', 'Country: India', 'Country: India', 'Country: India', 'Country: India', 'Country: India', 'Country: India', 'Country: India', 'Country: India', 'Country: India', 'Country: India', 'Country: India', 'Country: India'], 'rule_uis9': ['Country: India', 'Country: India', 'Country: India', 'Country: India', 'Country: India', 'Country: India, Japan', 'Country: United States', 'Country: India', 'Country: India', 'Country: India', 'Country: India', 'Country: India', 'Country: India', 'Country: India', 'Country: India', 'Country: India', 'Country: India', 'Country: India', 'Country: India, USA', 'Country: India', 'Country: India', 'Country: India', 'Country: India', 'Country: India', 'Country: India', 'Country: India', 'Country: India', 'Country: 2022', 'Country: India', 'Country: India', 'Country: India', 'Country: India', 'Country: India', 'Country: India', 'Country: India', 'Country: India', 'Country: India', 'Country: India', 'Country: India', 'Country: India'], 'rule_ayz1': ['Country: India', 'Country: India', 'Country: India', 'Country: India', 'Country: India', 'Country: India, Japan', 'Country: United States', 'Country: India', 'Country: India', 'Country: India', 'Country: India', 'Country: India', 'Country: India', 'Country: India', 'Country: India', 'Country: India', 'Country: India', 'Country: India', 'Country: India, USA', 'Country: India', 'Country: India', 'Country: India', 'Country: India', 'Country: India', 'Country: India', 'Country: India', 'Country: India', 'Country: 2022', 'Country: India', 'Country: India', 'Country: India', 'Country: India', 'Country: India', 'Country: India', 'Country: India', 'Country: India', 'Country: India', 'Country: India', 'Country: India', 'Country: India'], 'rule_6knh': ['Country: India', 'Country: India', 'Country: India', 'Country: India', 'Country: India', 'Country: India, Japan', 'Country: United States', 'Country: India', 'Country: India', 'Country: India', 'Country: India', 'Country: India', 'Country: India', 'Country: India', 'Country: India', 'Country: India', 'Country: India', 'Country: India', 'Country: India, USA', 'Country: India', 'Country: India', 'Country: India', 'Country: India', 'Country: India', 'Country: India', 'Country: India', 'Country: India', 'Country: 2022', 'Country: India', 'Country: India', 'Country: India', 'Country: India', 'Country: India', 'Country: India', 'Country: India', 'Country: India', 'Country: India', 'Country: India', 'Country: India', 'Country: India'], 'rule_95o0': ['Country: India', 'Country: India', 'Country: India', 'Country: India', 'Country: India', 'Country: India, Japan', 'Country: United States', 'Country: India', 'Country: India', 'Country: India', 'Country: India', 'Country: India', 'Country: India', 'Country: India', 'Country: India', 'Country: India', 'Country: India', 'Country: India', 'Country: India, USA', 'Country: India', 'Country: India', 'Country: India', 'Country: India', 'Country: India', 'Country: India', 'Country: India', 'Country: India', 'Country: 2022', 'Country: India', 'Country: India', 'Country: India', 'Country: India', 'Country: India', 'Country: India', 'Country: India', 'Country: India', 'Country: India', 'Country: India', 'Country: India', 'Country: India'], 'rule_qugt': ['Country: India', 'Country: India', 'Country: India', 'Country: India', 'Country: India', 'Country: India, Japan', 'Country: United States', 'Country: India', 'Country: India', 'Country: India', 'Country: India', 'Country: India', 'Country: India', 'Country: India', 'Country: India', 'Country: India', 'Country: India', 'Country: India', 'Country: India, USA', 'Country: India', 'Country: India', 'Country: India', 'Country: India', 'Country: India', 'Country: India', 'Country: India', 'Country: India', 'Country: 2022', 'Country: India', 'Country: India', 'Country: India', 'Country: India', 'Country: India', 'Country: India', 'Country: India', 'Country: India', 'Country: India', 'Country: India', 'Country: India', 'Country: India'], 'rule_9pac': ['Country: India', 'Country: India', 'Country: India', 'Country: India', 'Country: India', 'Country: India, Japan', 'Country: United States', 'Country: India', 'Country: India', 'Country: India', 'Country: India', 'Country: India', 'Country: India', 'Country: India', 'Country: India', 'Country: India', 'Country: India', 'Country: India', 'Country: India, USA', 'Country: India', 'Country: India', 'Country: India', 'Country: India', 'Country: India', 'Country: India', 'Country: India', 'Country: India', 'Country: 2022', 'Country: India', 'Country: India', 'Country: India', 'Country: India', 'Country: India', 'Country: India', 'Country: India', 'Country: India', 'Country: India', 'Country: India', 'Country: India', 'Country: India'], 'rule_x7k9': ['Country: India', 'Country: India', 'Country: India', 'Country: India', 'Country: India', 'Country: India, Japan', 'Country: United States', 'Country: India', 'Country: India', 'Country: India', 'Country: India', 'Country: India', 'Country: India', 'Country: India', 'Country: India', 'Country: India', 'Country: India', 'Country: India', 'Country: India, USA', 'Country: India', 'Country: India', 'Country: India', 'Country: India', 'Country: India', 'Country: India', 'Country: India', 'Country: India', 'Country: 2022', 'Country: India', 'Country: India', 'Country: India', 'Country: India', 'Country: India', 'Country: India', 'Country: India', 'Country: India', 'Country: India', 'Country: India', 'Country: India', 'Country: India'], 'rule_eu0n': ['Country: India', 'Country: India', 'Country: India', 'Country: India', 'Country: India', 'Country: India, Japan', 'Country: United States', 'Country: India', 'Country: India', 'Country: India', 'Country: India', 'Country: India', 'Country: India', 'Country: India', 'Country: India', 'Country: India', 'Country: India', 'Country: India', 'Country: India, USA', 'Country: India', 'Country: India', 'Country: India', 'Country: India', 'Country: India', 'Country: India', 'Country: India', 'Country: India', 'Country: 2022', 'Country: India', 'Country: India', 'Country: India', 'Country: India', 'Country: India', 'Country: India', 'Country: India', 'Country: India', 'Country: India', 'Country: India', 'Country: India', 'Country: India'], 'rule_27vb': ['Country: India', 'Country: India', 'Country: India', 'Country: India', 'Country: India', 'Country: India, Japan', 'Country: United States', 'Country: India', 'Country: India', 'Country: India', 'Country: India', 'Country: India', 'Country: India', 'Country: India', 'Country: India', 'Country: India', 'Country: India', 'Country: India', 'Country: India, USA', 'Country: India', 'Country: India', 'Country: India', 'Country: India', 'Country: India', 'Country: India', 'Country: India', 'Country: India', 'Country: 2022', 'Country: India', 'Country: India', 'Country: India', 'Country: India', 'Country: India', 'Country: India', 'Country: India', 'Country: India', 'Country: India', 'Country: India', 'Country: India', 'Country: India'], 'rule_5vcj': ['Country: India', 'Country: India', 'Country: India', 'Country: India', 'Country: India', 'Country: India, Japan', 'Country: United States', 'Country: India', 'Country: India', 'Country: India', 'Country: India', 'Country: India', 'Country: India', 'Country: India', 'Country: India', 'Country: India', 'Country: India', 'Country: India', 'Country: India, USA', 'Country: India', 'Country: India', 'Country: India', 'Country: India', 'Country: India', 'Country: India', 'Country: India', 'Country: India', 'Country: 2022', 'Country: India', 'Country: India', 'Country: India', 'Country: India', 'Country: India', 'Country: India', 'Country: India', 'Country: India', 'Country: India', 'Country: India', 'Country: India', 'Country: India'], 'rule_knaq': ['Country: India', 'Country: India', 'Country: India', 'Country: India', 'Country: India', 'Country: India, Japan', 'Country: United States', 'Country: India', 'Country: India', 'Country: India', 'Country: India', 'Country: India', 'Country: India', 'Country: India', 'Country: India', 'Country: India', 'Country: India', 'Country: India', 'Country: India, USA', 'Country: India', 'Country: India', 'Country: India', 'Country: India', 'Country: India', 'Country: India', 'Country: India', 'Country: India', 'Country: 2022', 'Country: India', 'Country: India', 'Country: India', 'Country: India', 'Country: India', 'Country: India', 'Country: India', 'Country: India', 'Country: India', 'Country: India', 'Country: India', 'Country: India'], 'rule_fzlk': ['Country: India', 'Country: India', 'Country: India', 'Country: India', 'Country: India', 'Country: India, Japan', 'Country: United States', 'Country: India', 'Country: India', 'Country: India', 'Country: India', 'Country: India', 'Country: India', 'Country: India', 'Country: India', 'Country: India', 'Country: India', 'Country: India', 'Country: India, USA', 'Country: India', 'Country: India', 'Country: India', 'Country: India', 'Country: India', 'Country: India', 'Country: India', 'Country: India', 'Country: 2022', 'Country: India', 'Country: India', 'Country: India', 'Country: India', 'Country: India', 'Country: India', 'Country: India', 'Country: India', 'Country: India', 'Country: India', 'Country: India', 'Country: India'], 'rule_yr8n': ['Country: India', 'Country: India', 'Country: India', 'Country: India', 'Country: India', 'Country: India, Japan', 'Country: United States', 'Country: India', 'Country: India', 'Country: India', 'Country: India', 'Country: India', 'Country: India', 'Country: India', 'Country: India', 'Country: India', 'Country: India', 'Country: India', 'Country: India, USA', 'Country: India', 'Country: India', 'Country: India', 'Country: India', 'Country: India', 'Country: India', 'Country: India', 'Country: India', 'Country: 2022', 'Country: India', 'Country: India', 'Country: India', 'Country: India', 'Country: India', 'Country: India', 'Country: India', 'Country: India', 'Country: India', 'Country: India', 'Country: India', 'Country: India'], 'rule_1jay': ['Country: India', 'Country: India', 'Country: India', 'Country: India', 'Country: India', 'Country: India, Japan', 'Country: United States', 'Country: India', 'Country: India', 'Country: India', 'Country: India', 'Country: India', 'Country: India', 'Country: India', 'Country: India', 'Country: India', 'Country: India', 'Country: India', 'Country: India, USA', 'Country: India', 'Country: India', 'Country: India', 'Country: India', 'Country: India', 'Country: India', 'Country: India', 'Country: India', 'Country: 2022', 'Country: India', 'Country: India', 'Country: India', 'Country: India', 'Country: India', 'Country: India', 'Country: India', 'Country: India', 'Country: India', 'Country: India', 'Country: India', 'Country: India'], 'rule_4tb6': ['Country: India', 'Country: India', 'Country: India', 'Country: India', 'Country: India', 'Country: India, Japan', 'Country: United States', 'Country: India', 'Country: India', 'Country: India', 'Country: India', 'Country: India', 'Country: India', 'Country: India', 'Country: India', 'Country: India', 'Country: India', 'Country: India', 'Country: India, USA', 'Country: India', 'Country: India', 'Country: India', 'Country: India', 'Country: India', 'Country: India', 'Country: India', 'Country: India', 'Country: 2022', 'Country: India', 'Country: India', 'Country: India', 'Country: India', 'Country: India', 'Country: India', 'Country: India', 'Country: India', 'Country: India', 'Country: India', 'Country: India', 'Country: India'], 'rule_h48z': ['Country: India', 'Country: India', 'Country: India', 'Country: India', 'Country: India', 'Country: India, Japan', 'Country: United States', 'Country: India', 'Country: India', 'Country: India', 'Country: India', 'Country: India', 'Country: India', 'Country: India', 'Country: India', 'Country: India', 'Country: India', 'Country: India', 'Country: India, USA', 'Country: India', 'Country: India', 'Country: India', 'Country: India', 'Country: India', 'Country: India', 'Country: India', 'Country: India', 'Country: 2022', 'Country: India', 'Country: India', 'Country: India', 'Country: India', 'Country: India', 'Country: India', 'Country: India', 'Country: India', 'Country: India', 'Country: India', 'Country: India', 'Country: India'], 'rule_66mp': ['Country: India', 'Country: India', 'Country: India', 'Country: India', 'Country: India', 'Country: India, Japan', 'Country: United States', 'Country: India', 'Country: India', 'Country: India', 'Country: India', 'Country: India', 'Country: India', 'Country: India', 'Country: India', 'Country: India', 'Country: India', 'Country: India', 'Country: India, USA', 'Country: India', 'Country: India', 'Country: India', 'Country: India', 'Country: India', 'Country: India', 'Country: India', 'Country: India', 'Country: 2022', 'Country: India', 'Country: India', 'Country: India', 'Country: India', 'Country: India', 'Country: India', 'Country: India', 'Country: India', 'Country: India', 'Country: India', 'Country: India', 'Country: India'], 'rule_120y': ['Country: India', 'Country: India', 'Country: India', 'Country: India', 'Country: India', 'Country: India, Japan', 'Country: United States', 'Country: India', 'Country: India', 'Country: India', 'Country: India', 'Country: India', 'Country: India', 'Country: India', 'Country: India', 'Country: India', 'Country: India', 'Country: India', 'Country: India, USA', 'Country: India', 'Country: India', 'Country: India', 'Country: India', 'Country: India', 'Country: India', 'Country: India', 'Country: India', 'Country: 2022', 'Country: India', 'Country: India', 'Country: India', 'Country: India', 'Country: India', 'Country: India', 'Country: India', 'Country: India', 'Country: India', 'Country: India', 'Country: India', 'Country: India'], 'rule_cwuf': ['Country: India', 'Country: India', 'Country: India', 'Country: India', 'Country: India', 'Country: India, Japan', 'Country: United States', 'Country: India', 'Country: India', 'Country: India', 'Country: India', 'Country: India', 'Country: India', 'Country: India', 'Country: India', 'Country: India', 'Country: India', 'Country: India', 'Country: India, USA', 'Country: India', 'Country: India', 'Country: India', 'Country: India', 'Country: India', 'Country: India', 'Country: India', 'Country: India', 'Country: 2022', 'Country: India', 'Country: India', 'Country: India', 'Country: India', 'Country: India', 'Country: India', 'Country: India', 'Country: India', 'Country: India', 'Country: India', 'Country: India', 'Country: India'], 'rule_zwnm': ['Country: India', 'Country: India', 'Country: India', 'Country: India', 'Country: India', 'Country: India, Japan', 'Country: United States', 'Country: India', 'Country: India', 'Country: India', 'Country: India', 'Country: India', 'Country: India', 'Country: India', 'Country: India', 'Country: India', 'Country: India', 'Country: India', 'Country: India, USA', 'Country: India', 'Country: India', 'Country: India', 'Country: India', 'Country: India', 'Country: India', 'Country: India', 'Country: India', 'Country: 2022', 'Country: India', 'Country: India', 'Country: India', 'Country: India', 'Country: India', 'Country: India', 'Country: India', 'Country: India', 'Country: India', 'Country: India', 'Country: India', 'Country: India'], 'rule_kk2w': ['Country: India', 'Country: India', 'Country: India', 'Country: India', 'Country: India', 'Country: India, Japan', 'Country: United States', 'Country: India', 'Country: India', 'Country: India', 'Country: India', 'Country: India', 'Country: India', 'Country: India', 'Country: India', 'Country: India', 'Country: India', 'Country: India', 'Country: India, USA', 'Country: India', 'Country: India', 'Country: India', 'Country: India', 'Country: India', 'Country: India', 'Country: India', 'Country: India', 'Country: 2022', 'Country: India', 'Country: India', 'Country: India', 'Country: India', 'Country: India', 'Country: India', 'Country: India', 'Country: India', 'Country: India', 'Country: India', 'Country: India', 'Country: India'], 'rule_335u': ['Country: India', 'Country: India', 'Country: India', 'Country: India', 'Country: India', 'Country: India, Japan', 'Country: United States', 'Country: India', 'Country: India', 'Country: India', 'Country: India', 'Country: India', 'Country: India', 'Country: India', 'Country: India', 'Country: India', 'Country: India', 'Country: India', 'Country: India, USA', 'Country: India', 'Country: India', 'Country: India', 'Country: India', 'Country: India', 'Country: India', 'Country: India', 'Country: India', 'Country: 2022', 'Country: India', 'Country: India', 'Country: India', 'Country: India', 'Country: India', 'Country: India', 'Country: India', 'Country: India', 'Country: India', 'Country: India', 'Country: India', 'Country: India'], 'rule_230a': ['Country: India', 'Country: India', 'Country: India', 'Country: India', 'Country: India', 'Country: India, Japan', 'Country: United States', 'Country: India', 'Country: India', 'Country: India', 'Country: India', 'Country: India', 'Country: India', 'Country: India', 'Country: India', 'Country: India', 'Country: India', 'Country: India', 'Country: India, USA', 'Country: India', 'Country: India', 'Country: India', 'Country: India', 'Country: India', 'Country: India', 'Country: India', 'Country: India', 'Country: 2022', 'Country: India', 'Country: India', 'Country: India', 'Country: India', 'Country: India', 'Country: India', 'Country: India', 'Country: India', 'Country: India', 'Country: India', 'Country: India', 'Country: India'], 'rule_pp27': ['Country: India', 'Country: India', 'Country: India', 'Country: India', 'Country: India', 'Country: India, Japan', 'Country: United States', 'Country: India', 'Country: India', 'Country: India', 'Country: India', 'Country: India', 'Country: India', 'Country: India', 'Country: India', 'Country: India', 'Country: India', 'Country: India', 'Country: India, USA', 'Country: India', 'Country: India', 'Country: India', 'Country: India', 'Country: India', 'Country: India', 'Country: India', 'Country: India', 'Country: 2022', 'Country: India', 'Country: India', 'Country: India', 'Country: India', 'Country: India', 'Country: India', 'Country: India', 'Country: India', 'Country: India', 'Country: India', 'Country: India', 'Country: India'], 'rule_pp6c': ['Country: India', 'Country: India', 'Country: India', 'Country: India', 'Country: India', 'Country: India, Japan', 'Country: United States', 'Country: India', 'Country: India', 'Country: India', 'Country: India', 'Country: India', 'Country: India', 'Country: India', 'Country: India', 'Country: India', 'Country: India', 'Country: India', 'Country: India, USA', 'Country: India', 'Country: India', 'Country: India', 'Country: India', 'Country: India', 'Country: India', 'Country: India', 'Country: India', 'Country: 2022', 'Country: India', 'Country: India', 'Country: India', 'Country: India', 'Country: India', 'Country: India', 'Country: India', 'Country: India', 'Country: India', 'Country: India', 'Country: India', 'Country: India'], 'rule_srt3': ['Country: India', 'Country: India', 'Country: India', 'Country: India', 'Country: India', 'Country: India, Japan', 'Country: United States', 'Country: India', 'Country: India', 'Country: India', 'Country: India', 'Country: India', 'Country: India', 'Country: India', 'Country: India', 'Country: India', 'Country: India', 'Country: India', 'Country: India, USA', 'Country: India', 'Country: India', 'Country: India', 'Country: India', 'Country: India', 'Country: India', 'Country: India', 'Country: India', 'Country: 2022', 'Country: India', 'Country: India', 'Country: India', 'Country: India', 'Country: India', 'Country: India', 'Country: India', 'Country: India', 'Country: India', 'Country: India', 'Country: India', 'Country: India'], 'rule_vlok': ['Country: India', 'Country: India', 'Country: India', 'Country: India', 'Country: India', 'Country: India, Japan', 'Country: United States', 'Country: India', 'Country: India', 'Country: India', 'Country: India', 'Country: India', 'Country: India', 'Country: India', 'Country: India', 'Country: India', 'Country: India', 'Country: India', 'Country: India, USA', 'Country: India', 'Country: India', 'Country: India', 'Country: India', 'Country: India', 'Country: India', 'Country: India', 'Country: India', 'Country: 2022', 'Country: India', 'Country: India', 'Country: India', 'Country: India', 'Country: India', 'Country: India', 'Country: India', 'Country: India', 'Country: India', 'Country: India', 'Country: India', 'Country: India'], 'rule_s80c': ['Country: India', 'Country: India', 'Country: India', 'Country: India', 'Country: India', 'Country: India, Japan', 'Country: United States', 'Country: India', 'Country: India', 'Country: India', 'Country: India', 'Country: India', 'Country: India', 'Country: India', 'Country: India', 'Country: India', 'Country: India', 'Country: India', 'Country: India, USA', 'Country: India', 'Country: India', 'Country: India', 'Country: India', 'Country: India', 'Country: India', 'Country: India', 'Country: India', 'Country: 2022', 'Country: India', 'Country: India', 'Country: India', 'Country: India', 'Country: India', 'Country: India', 'Country: India', 'Country: India', 'Country: India', 'Country: India', 'Country: India', 'Country: India'], 'rule_ogdt': ['Country: India', 'Country: India', 'Country: India', 'Country: India', 'Country: India', 'Country: India, Japan', 'Country: United States', 'Country: India', 'Country: India', 'Country: India', 'Country: India', 'Country: India', 'Country: India', 'Country: India', 'Country: India', 'Country: India', 'Country: India', 'Country: India', 'Country: India, USA', 'Country: India', 'Country: India', 'Country: India', 'Country: India', 'Country: India', 'Country: India', 'Country: India', 'Country: India', 'Country: 2022', 'Country: India', 'Country: India', 'Country: India', 'Country: India', 'Country: India', 'Country: India', 'Country: India', 'Country: India', 'Country: India', 'Country: India', 'Country: India', 'Country: India'], 'rule_twxd': ['Country: India', 'Country: India', 'Country: India', 'Country: India', 'Country: India', 'Country: India, Japan', 'Country: United States', 'Country: India', 'Country: India', 'Country: India', 'Country: India', 'Country: India', 'Country: India', 'Country: India', 'Country: India', 'Country: India', 'Country: India', 'Country: India', 'Country: India, USA', 'Country: India', 'Country: India', 'Country: India', 'Country: India', 'Country: India', 'Country: India', 'Country: India', 'Country: India', 'Country: 2022', 'Country: India', 'Country: India', 'Country: India', 'Country: India', 'Country: India', 'Country: India', 'Country: India', 'Country: India', 'Country: India', 'Country: India', 'Country: India', 'Country: India'], 'rule_e6t2': ['Country: India', 'Country: India', 'Country: India', 'Country: India', 'Country: India', 'Country: India, Japan', 'Country: United States', 'Country: India', 'Country: India', 'Country: India', 'Country: India', 'Country: India', 'Country: India', 'Country: India', 'Country: India', 'Country: India', 'Country: India', 'Country: India', 'Country: India, USA', 'Country: India', 'Country: India', 'Country: India', 'Country: India', 'Country: India', 'Country: India', 'Country: India', 'Country: India', 'Country: 2022', 'Country: India', 'Country: India', 'Country: India', 'Country: India', 'Country: India', 'Country: India', 'Country: India', 'Country: India', 'Country: India', 'Country: India', 'Country: India', 'Country: India'], 'rule_m6ki': ['Country: India', 'Country: India', 'Country: India', 'Country: India', 'Country: India', 'Country: India, Japan', 'Country: United States', 'Country: India', 'Country: India', 'Country: India', 'Country: India', 'Country: India', 'Country: India', 'Country: India', 'Country: India', 'Country: India', 'Country: India', 'Country: India', 'Country: India, USA', 'Country: India', 'Country: India', 'Country: India', 'Country: India', 'Country: India', 'Country: India', 'Country: India', 'Country: India', 'Country: 2022', 'Country: India', 'Country: India', 'Country: India', 'Country: India', 'Country: India', 'Country: India', 'Country: India', 'Country: India', 'Country: India', 'Country: India', 'Country: India', 'Country: India'], 'rule_bzl1': ['Country: India', 'Country: India', 'Country: India', 'Country: India', 'Country: India', 'Country: India, Japan', 'Country: United States', 'Country: India', 'Country: India', 'Country: India', 'Country: India', 'Country: India', 'Country: India', 'Country: India', 'Country: India', 'Country: India', 'Country: India', 'Country: India', 'Country: India, USA', 'Country: India', 'Country: India', 'Country: India', 'Country: India', 'Country: India', 'Country: India', 'Country: India', 'Country: India', 'Country: 2022', 'Country: India', 'Country: India', 'Country: India', 'Country: India', 'Country: India', 'Country: India', 'Country: India', 'Country: India', 'Country: India', 'Country: India', 'Country: India', 'Country: India'], 'rule_3mhr': ['Genre: Bollywood, Reality', 'Genre: Bollywood, Comedy, Drama, Romance', 'Genre: Bollywood, Comedy, Drama', 'Genre: Bollywood, Comedy, Drama, Family, Romance', 'Genre: Bollywood, Reality', 'Genre: Action, Adventure, Animation, Bollywood, Family', 'Genre: Animation, Bollywood, Comedy, Fantasy, Music', 'Genre: Action, Adventure, Animation, Bollywood', 'Genre: Bollywood, Family, Fantasy', 'Genre: Bollywood, Comedy, Drama', 'Genre: Bollywood, Reality', 'Genre: Bollywood, Comedy', 'Genre: Bollywood, Comedy, Drama', 'Genre: Action, Bollywood, Drama, War', 'Genre: Bollywood, Drama, Romance', 'Genre: Bollywood, Comedy, Drama', 'Genre: Bollywood, Crime, Drama, Romance', 'Genre: Bollywood, Reality', 'Genre: Bollywood, Crime, Mystery, Thriller', 'Genre: Bollywood, Comedy, Punjabi, Romance', 'Genre: Bollywood, Crime, Drama', 'Genre: Bollywood, Drama, Mystery', 'Genre: Bollywood, Comedy', 'Genre: Bollywood, Horror, Mystery, Thriller', 'Genre: Action, Bollywood, Drama, Musical', 'Genre: Bollywood, Drama, Romance', 'Genre: Bollywood, Drama, Family, Musical', 'Genre: Bollywood, Reality', 'Genre: Action, Bollywood, Thriller', 'Genre: Bollywood, Comedy, Drama', 'Genre: Bollywood, Mystery, Thriller', 'Genre: Bollywood, Comedy, Drama, Family, Romance', 'Genre: Bollywood, Comedy, Drama, Horror', 'Genre: Bollywood, Drama, Sci-fi, Science Fiction', 'Genre: Bollywood, Comedy, Drama, Family, Romance', 'Genre: Action, Bollywood, Drama', 'Genre: Bollywood, Reality', 'Genre: Action, Bollywood, Thriller', 'Genre: Bollywood, Drama', 'Genre: Action, Bollywood, Crime, Drama, Thriller'], 'rule_mmq7': ['Genre: Bollywood, Reality', 'Genre: Bollywood, Comedy, Drama, Romance', 'Genre: Bollywood, Comedy, Drama', 'Genre: Bollywood, Comedy, Drama, Family, Romance', 'Genre: Bollywood, Reality', 'Genre: Action, Adventure, Animation, Bollywood, Family', 'Genre: Animation, Bollywood, Comedy, Fantasy, Music', 'Genre: Action, Adventure, Animation, Bollywood', 'Genre: Bollywood, Family, Fantasy', 'Genre: Bollywood, Comedy, Drama', 'Genre: Bollywood, Reality', 'Genre: Bollywood, Comedy', 'Genre: Bollywood, Comedy, Drama', 'Genre: Action, Bollywood, Drama, War', 'Genre: Bollywood, Drama, Romance', 'Genre: Bollywood, Comedy, Drama', 'Genre: Bollywood, Crime, Drama, Romance', 'Genre: Bollywood, Reality', 'Genre: Bollywood, Crime, Mystery, Thriller', 'Genre: Bollywood, Comedy, Punjabi, Romance', 'Genre: Bollywood, Crime, Drama', 'Genre: Bollywood, Drama, Mystery', 'Genre: Bollywood, Comedy', 'Genre: Bollywood, Horror, Mystery, Thriller', 'Genre: Action, Bollywood, Drama, Musical', 'Genre: Bollywood, Drama, Romance', 'Genre: Bollywood, Drama, Family, Musical', 'Genre: Bollywood, Reality', 'Genre: Action, Bollywood, Thriller', 'Genre: Bollywood, Comedy, Drama', 'Genre: Bollywood, Mystery, Thriller', 'Genre: Bollywood, Comedy, Drama, Family, Romance', 'Genre: Bollywood, Comedy, Drama, Horror', 'Genre: Bollywood, Drama, Sci-fi, Science Fiction', 'Genre: Bollywood, Comedy, Drama, Family, Romance', 'Genre: Action, Bollywood, Drama', 'Genre: Bollywood, Reality', 'Genre: Action, Bollywood, Thriller', 'Genre: Bollywood, Drama', 'Genre: Action, Bollywood, Crime, Drama, Thriller'], 'rule_8d8g': ['Genre: Bollywood, Reality', 'Genre: Bollywood, Comedy, Drama, Romance', 'Genre: Bollywood, Comedy, Drama', 'Genre: Bollywood, Comedy, Drama, Family, Romance', 'Genre: Bollywood, Reality', 'Genre: Action, Adventure, Animation, Bollywood, Family', 'Genre: Animation, Bollywood, Comedy, Fantasy, Music', 'Genre: Action, Adventure, Animation, Bollywood', 'Genre: Bollywood, Family, Fantasy', 'Genre: Bollywood, Comedy, Drama', 'Genre: Bollywood, Reality', 'Genre: Bollywood, Comedy', 'Genre: Bollywood, Comedy, Drama', 'Genre: Action, Bollywood, Drama, War', 'Genre: Bollywood, Drama, Romance', 'Genre: Bollywood, Comedy, Drama', 'Genre: Bollywood, Crime, Drama, Romance', 'Genre: Bollywood, Reality', 'Genre: Bollywood, Crime, Mystery, Thriller', 'Genre: Bollywood, Comedy, Punjabi, Romance', 'Genre: Bollywood, Crime, Drama', 'Genre: Bollywood, Drama, Mystery', 'Genre: Bollywood, Comedy', 'Genre: Bollywood, Horror, Mystery, Thriller', 'Genre: Action, Bollywood, Drama, Musical', 'Genre: Bollywood, Drama, Romance', 'Genre: Bollywood, Drama, Family, Musical', 'Genre: Bollywood, Reality', 'Genre: Action, Bollywood, Thriller', 'Genre: Bollywood, Comedy, Drama', 'Genre: Bollywood, Mystery, Thriller', 'Genre: Bollywood, Comedy, Drama, Family, Romance', 'Genre: Bollywood, Comedy, Drama, Horror', 'Genre: Bollywood, Drama, Sci-fi, Science Fiction', 'Genre: Bollywood, Comedy, Drama, Family, Romance', 'Genre: Action, Bollywood, Drama', 'Genre: Bollywood, Reality', 'Genre: Action, Bollywood, Thriller', 'Genre: Bollywood, Drama', 'Genre: Action, Bollywood, Crime, Drama, Thriller'], 'rule_z13b': ['Genre: Bollywood, Reality', 'Genre: Bollywood, Comedy, Drama, Romance', 'Genre: Bollywood, Comedy, Drama', 'Genre: Bollywood, Comedy, Drama, Family, Romance', 'Genre: Bollywood, Reality', 'Genre: Action, Adventure, Animation, Bollywood, Family', 'Genre: Animation, Bollywood, Comedy, Fantasy, Music', 'Genre: Action, Adventure, Animation, Bollywood', 'Genre: Bollywood, Family, Fantasy', 'Genre: Bollywood, Comedy, Drama', 'Genre: Bollywood, Reality', 'Genre: Bollywood, Comedy', 'Genre: Bollywood, Comedy, Drama', 'Genre: Action, Bollywood, Drama, War', 'Genre: Bollywood, Drama, Romance', 'Genre: Bollywood, Comedy, Drama', 'Genre: Bollywood, Crime, Drama, Romance', 'Genre: Bollywood, Reality', 'Genre: Bollywood, Crime, Mystery, Thriller', 'Genre: Bollywood, Comedy, Punjabi, Romance', 'Genre: Bollywood, Crime, Drama', 'Genre: Bollywood, Drama, Mystery', 'Genre: Bollywood, Comedy', 'Genre: Bollywood, Horror, Mystery, Thriller', 'Genre: Action, Bollywood, Drama, Musical', 'Genre: Bollywood, Drama, Romance', 'Genre: Bollywood, Drama, Family, Musical', 'Genre: Bollywood, Reality', 'Genre: Action, Bollywood, Thriller', 'Genre: Bollywood, Comedy, Drama', 'Genre: Bollywood, Mystery, Thriller', 'Genre: Bollywood, Comedy, Drama, Family, Romance', 'Genre: Bollywood, Comedy, Drama, Horror', 'Genre: Bollywood, Drama, Sci-fi, Science Fiction', 'Genre: Bollywood, Comedy, Drama, Family, Romance', 'Genre: Action, Bollywood, Drama', 'Genre: Bollywood, Reality', 'Genre: Action, Bollywood, Thriller', 'Genre: Bollywood, Drama', 'Genre: Action, Bollywood, Crime, Drama, Thriller'], 'rule_61lq': ['Genre: Bollywood, Reality', 'Genre: Bollywood, Comedy, Drama, Romance', 'Genre: Bollywood, Comedy, Drama', 'Genre: Bollywood, Comedy, Drama, Family, Romance', 'Genre: Bollywood, Reality', 'Genre: Action, Adventure, Animation, Bollywood, Family', 'Genre: Animation, Bollywood, Comedy, Fantasy, Music', 'Genre: Action, Adventure, Animation, Bollywood', 'Genre: Bollywood, Family, Fantasy', 'Genre: Bollywood, Comedy, Drama', 'Genre: Bollywood, Reality', 'Genre: Bollywood, Comedy', 'Genre: Bollywood, Comedy, Drama', 'Genre: Action, Bollywood, Drama, War', 'Genre: Bollywood, Drama, Romance', 'Genre: Bollywood, Comedy, Drama', 'Genre: Bollywood, Crime, Drama, Romance', 'Genre: Bollywood, Reality', 'Genre: Bollywood, Crime, Mystery, Thriller', 'Genre: Bollywood, Comedy, Punjabi, Romance', 'Genre: Bollywood, Crime, Drama', 'Genre: Bollywood, Drama, Mystery', 'Genre: Bollywood, Comedy', 'Genre: Bollywood, Horror, Mystery, Thriller', 'Genre: Action, Bollywood, Drama, Musical', 'Genre: Bollywood, Drama, Romance', 'Genre: Bollywood, Drama, Family, Musical', 'Genre: Bollywood, Reality', 'Genre: Action, Bollywood, Thriller', 'Genre: Bollywood, Comedy, Drama', 'Genre: Bollywood, Mystery, Thriller', 'Genre: Bollywood, Comedy, Drama, Family, Romance', 'Genre: Bollywood, Comedy, Drama, Horror', 'Genre: Bollywood, Drama, Sci-fi, Science Fiction', 'Genre: Bollywood, Comedy, Drama, Family, Romance', 'Genre: Action, Bollywood, Drama', 'Genre: Bollywood, Reality', 'Genre: Action, Bollywood, Thriller', 'Genre: Bollywood, Drama', 'Genre: Action, Bollywood, Crime, Drama, Thriller'], 'rule_x97b': ['Genre: Bollywood, Reality', 'Genre: Bollywood, Comedy, Drama, Romance', 'Genre: Bollywood, Comedy, Drama', 'Genre: Bollywood, Comedy, Drama, Family, Romance', 'Genre: Bollywood, Reality', 'Genre: Action, Adventure, Animation, Bollywood, Family', 'Genre: Animation, Bollywood, Comedy, Fantasy, Music', 'Genre: Action, Adventure, Animation, Bollywood', 'Genre: Bollywood, Family, Fantasy', 'Genre: Bollywood, Comedy, Drama', 'Genre: Bollywood, Reality', 'Genre: Bollywood, Comedy', 'Genre: Bollywood, Comedy, Drama', 'Genre: Action, Bollywood, Drama, War', 'Genre: Bollywood, Drama, Romance', 'Genre: Bollywood, Comedy, Drama', 'Genre: Bollywood, Crime, Drama, Romance', 'Genre: Bollywood, Reality', 'Genre: Bollywood, Crime, Mystery, Thriller', 'Genre: Bollywood, Comedy, Punjabi, Romance', 'Genre: Bollywood, Crime, Drama', 'Genre: Bollywood, Drama, Mystery', 'Genre: Bollywood, Comedy', 'Genre: Bollywood, Horror, Mystery, Thriller', 'Genre: Action, Bollywood, Drama, Musical', 'Genre: Bollywood, Drama, Romance', 'Genre: Bollywood, Drama, Family, Musical', 'Genre: Bollywood, Reality', 'Genre: Action, Bollywood, Thriller', 'Genre: Bollywood, Comedy, Drama', 'Genre: Bollywood, Mystery, Thriller', 'Genre: Bollywood, Comedy, Drama, Family, Romance', 'Genre: Bollywood, Comedy, Drama, Horror', 'Genre: Bollywood, Drama, Sci-fi, Science Fiction', 'Genre: Bollywood, Comedy, Drama, Family, Romance', 'Genre: Action, Bollywood, Drama', 'Genre: Bollywood, Reality', 'Genre: Action, Bollywood, Thriller', 'Genre: Bollywood, Drama', 'Genre: Action, Bollywood, Crime, Drama, Thriller']}\n"
     ]
    }
   ],
   "source": [
    "#scraper.get_result_similar(UrlToScrap, grouped = True)\n",
    "x=scraper.get_result_similar(UrlToScrap, grouped=True)\n",
    "\n",
    "# Print the keys of the grouped_data dictionary\n",
    "print(x)\n"
   ]
  },
  {
   "cell_type": "code",
   "execution_count": 121,
   "id": "30344dfc-a912-4fa8-b4b6-730116901460",
   "metadata": {},
   "outputs": [
    {
     "data": {
      "text/plain": [
       "['Genre: Bollywood, Reality',\n",
       " 'Genre: Bollywood, Comedy, Drama, Romance',\n",
       " 'Genre: Bollywood, Comedy, Drama',\n",
       " 'Genre: Bollywood, Comedy, Drama, Family, Romance',\n",
       " 'Genre: Bollywood, Reality',\n",
       " 'Genre: Action, Adventure, Animation, Bollywood, Family',\n",
       " 'Genre: Animation, Bollywood, Comedy, Fantasy, Music',\n",
       " 'Genre: Action, Adventure, Animation, Bollywood',\n",
       " 'Genre: Bollywood, Family, Fantasy',\n",
       " 'Genre: Bollywood, Comedy, Drama',\n",
       " 'Genre: Bollywood, Reality',\n",
       " 'Genre: Bollywood, Comedy',\n",
       " 'Genre: Bollywood, Comedy, Drama',\n",
       " 'Genre: Action, Bollywood, Drama, War',\n",
       " 'Genre: Bollywood, Drama, Romance',\n",
       " 'Genre: Bollywood, Comedy, Drama',\n",
       " 'Genre: Bollywood, Crime, Drama, Romance',\n",
       " 'Genre: Bollywood, Reality',\n",
       " 'Genre: Bollywood, Crime, Mystery, Thriller',\n",
       " 'Genre: Bollywood, Comedy, Punjabi, Romance',\n",
       " 'Genre: Bollywood, Crime, Drama',\n",
       " 'Genre: Bollywood, Drama, Mystery',\n",
       " 'Genre: Bollywood, Comedy',\n",
       " 'Genre: Bollywood, Horror, Mystery, Thriller',\n",
       " 'Genre: Action, Bollywood, Drama, Musical',\n",
       " 'Genre: Bollywood, Drama, Romance',\n",
       " 'Genre: Bollywood, Drama, Family, Musical',\n",
       " 'Genre: Bollywood, Reality',\n",
       " 'Genre: Action, Bollywood, Thriller',\n",
       " 'Genre: Bollywood, Comedy, Drama',\n",
       " 'Genre: Bollywood, Mystery, Thriller',\n",
       " 'Genre: Bollywood, Comedy, Drama, Family, Romance',\n",
       " 'Genre: Bollywood, Comedy, Drama, Horror',\n",
       " 'Genre: Bollywood, Drama, Sci-fi, Science Fiction',\n",
       " 'Genre: Bollywood, Comedy, Drama, Family, Romance',\n",
       " 'Genre: Action, Bollywood, Drama',\n",
       " 'Genre: Bollywood, Reality',\n",
       " 'Genre: Action, Bollywood, Thriller',\n",
       " 'Genre: Bollywood, Drama',\n",
       " 'Genre: Action, Bollywood, Crime, Drama, Thriller']"
      ]
     },
     "execution_count": 121,
     "metadata": {},
     "output_type": "execute_result"
    }
   ],
   "source": [
    "x = scraper.get_result_similar(UrlToScrap, grouped=True)\n",
    "genre_list = grouped_data[\"rule_3mhr\"]\n",
    "genre_list\n"
   ]
  },
  {
   "cell_type": "code",
   "execution_count": null,
   "id": "40c54238-c176-4bba-961f-2463256de143",
   "metadata": {},
   "outputs": [],
   "source": []
  }
 ],
 "metadata": {
  "kernelspec": {
   "display_name": "env",
   "language": "python",
   "name": "env"
  },
  "language_info": {
   "codemirror_mode": {
    "name": "ipython",
    "version": 3
   },
   "file_extension": ".py",
   "mimetype": "text/x-python",
   "name": "python",
   "nbconvert_exporter": "python",
   "pygments_lexer": "ipython3",
   "version": "3.10.4"
  }
 },
 "nbformat": 4,
 "nbformat_minor": 5
}
